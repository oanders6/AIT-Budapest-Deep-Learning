{
  "cells": [
    {
      "cell_type": "markdown",
      "metadata": {
        "id": "_jiGtJu6u9ml"
      },
      "source": [
        "# Copyright\n",
        "\n",
        "<PRE>\n",
        "Copyright (c) 2023 Bálint Gyires-Tóth - All Rights Reserved\n",
        "You may use and modify this code for research and development purpuses.\n",
        "Use this code for educational purposes (self-paced or instructor led) without the permission of the author is prohibited.\n",
        "</PRE>"
      ]
    },
    {
      "cell_type": "markdown",
      "metadata": {
        "id": "oXyFC44jV-PP"
      },
      "source": [
        "# Author classification\n",
        "The task is to train a 1D CNN or an LSTM that is able to  classify text from two authors. The final model should be able to tell about a text with a given length (e.g. 60 characters) who wrote it.\n",
        "\n",
        "Please write the codes according to the following parts:"
      ]
    },
    {
      "cell_type": "markdown",
      "metadata": {
        "id": "jCnLoeGrHXsp"
      },
      "source": [
        "## Python module imports\n",
        "Import all Python modules that you would need during the Assignment."
      ]
    },
    {
      "cell_type": "code",
      "execution_count": 1,
      "metadata": {
        "id": "7itbFGt3HXVT"
      },
      "outputs": [],
      "source": [
        "import pandas as pd\n",
        "import numpy as np\n",
        "from collections import Counter\n",
        "from nltk.corpus import stopwords\n",
        "from nltk.tokenize import word_tokenize\n",
        "from nltk.stem import PorterStemmer\n",
        "from nltk import FreqDist\n",
        "import matplotlib.pyplot as plt\n",
        "import seaborn as sns\n",
        "from wordcloud import WordCloud\n",
        "import spacy\n",
        "from spacy import displacy\n",
        "from sklearn.model_selection import train_test_split\n",
        "from sklearn.metrics import confusion_matrix\n",
        "import seaborn as sns\n",
        "from collections import Counter\n",
        "from tensorflow.keras.models import Sequential\n",
        "from tensorflow.keras.layers import Embedding, Conv1D, LSTM, Dense, GlobalMaxPooling1D\n",
        "from tensorflow.keras.callbacks import EarlyStopping\n",
        "# import en_core_web_sm as en"
      ]
    },
    {
      "cell_type": "markdown",
      "metadata": {
        "id": "Hr617tEpHd8R"
      },
      "source": [
        "## Data acquisition\n",
        "Seek a possible dataset, you can use any source, e.g.\n",
        "* http://www.gutenberg.org/\n",
        "* https://www.kaggle.com/datasets\n",
        "* https://paperswithcode.com/datasets\n",
        "* if you would like to learn Hungarian, than e.g. https://mek.oszk.hu/\n",
        "\n",
        "You can download the text by hand (e.g. by copy-pasting some parts into txt files) or with Python."
      ]
    },
    {
      "cell_type": "markdown",
      "metadata": {},
      "source": [
        "# Text was downloaded and cleaned by hand from https://www.gutenberg.org/ and saved in the \"data\" folder"
      ]
    },
    {
      "cell_type": "markdown",
      "metadata": {
        "id": "U9Pmq91t3SRD"
      },
      "source": [
        "## Data analysis\n",
        "Count the number of characters from both authors and display them on a plot (e.g. Seaborn's countplot)."
      ]
    },
    {
      "cell_type": "code",
      "execution_count": 2,
      "metadata": {
        "id": "uRqGdn4F3Spk"
      },
      "outputs": [
        {
          "data": {
            "text/plain": [
              "<Axes: xlabel='Book', ylabel='Character Count'>"
            ]
          },
          "execution_count": 2,
          "metadata": {},
          "output_type": "execute_result"
        },
        {
          "data": {
            "image/png": "[encoded data removed]",
            "text/plain": [
              "<Figure size 640x480 with 1 Axes>"
            ]
          },
          "metadata": {},
          "output_type": "display_data"
        }
      ],
      "source": [
        "# Read the files\n",
        "moby_dick_file = \"data/moby_dick.txt\"\n",
        "pride_and_prejudice_file = \"data/pride_and_prejudice.txt\"\n",
        "\n",
        "with open(moby_dick_file, \"r\") as file:\n",
        "    moby_dick_text = file.read()\n",
        "\n",
        "with open(pride_and_prejudice_file, \"r\") as file:\n",
        "    pride_and_prejudice_text = file.read()\n",
        "\n",
        "# Count the number of characters\n",
        "moby_dick_count = len(moby_dick_text)\n",
        "pride_and_prejudice_count = len(pride_and_prejudice_text)\n",
        "\n",
        "# Create a dataframe\n",
        "data = pd.DataFrame({'Book': ['Moby Dick', 'Pride and Prejudice'], 'Character Count': [moby_dick_count, pride_and_prejudice_count]})\n",
        "\n",
        "# Plot the countplot\n",
        "sns.barplot(x='Book', y='Character Count', data=data)\n"
      ]
    },
    {
      "cell_type": "markdown",
      "metadata": {
        "id": "cHyE_ndGIblJ"
      },
      "source": [
        "## Data loading, labeling and preprocessing\n",
        "Load the data and convert the characters into one-hot encodings. Then load the data into a 3D NumPy array, with a shape of\n",
        "\n",
        "* (batch, sequence_length, alphabet_length)\n",
        "\n",
        "where sequence_length=60, and alphabet_length equals to the number of unique characters in both datasets. The sequences should be cut out from the complete dataset by sliding window. You should add 0 and 1 labels to the sequences, according to the author.\n",
        "\n",
        "Later you may change sequence_length to achieve better results!"
      ]
    },
    {
      "cell_type": "code",
      "execution_count": 3,
      "metadata": {
        "id": "arooXt0WIb6x"
      },
      "outputs": [
        {
          "name": "stdout",
          "output_type": "stream",
          "text": [
            "(5199, 60, 56)\n",
            "['\\n', ' ', '!', '(', ')', '*', ',', '-', '.', '/', '0', '1', '2', '3', '5', '6', '7', '8', '9', ':', ';', '?', '_', 'a', 'b', 'c', 'd', 'e', 'f', 'g', 'h', 'i', 'j', 'k', 'l', 'm', 'n', 'o', 'p', 'q', 'r', 's', 't', 'u', 'v', 'w', 'x', 'y', 'z', 'é', 'œ', '—', '‘', '’', '“', '”']\n"
          ]
        }
      ],
      "source": [
        "# Load the data from the files\n",
        "moby_dick_file = \"data/moby_dick.txt\"\n",
        "pride_and_prejudice_file = \"data/pride_and_prejudice.txt\"\n",
        "\n",
        "with open(moby_dick_file, \"r\") as file:\n",
        "    moby_dick_text = file.read()\n",
        "\n",
        "with open(pride_and_prejudice_file, \"r\") as file:\n",
        "    pride_and_prejudice_text = file.read()\n",
        "\n",
        "# Combine the texts\n",
        "combined_text = moby_dick_text + pride_and_prejudice_text\n",
        "\n",
        "# Convert to lowercase\n",
        "combined_text = combined_text.lower()\n",
        "\n",
        "# Create a set of unique characters\n",
        "unique_chars = sorted(set(combined_text))\n",
        "\n",
        "# Create a mapping from characters to indices\n",
        "char_to_index = {char: index for index, char in enumerate(unique_chars)}\n",
        "\n",
        "# Determine the number of unique characters\n",
        "alphabet_length = len(unique_chars)\n",
        "\n",
        "# Define the sequence length\n",
        "sequence_length = 60\n",
        "\n",
        "# Create empty lists for sequences and labels\n",
        "sequences = []\n",
        "labels = []\n",
        "\n",
        "# Generate sequences and labels using sliding window\n",
        "for i in range(0, len(combined_text) - sequence_length + 1, sequence_length):\n",
        "    sequence = combined_text[i:i+sequence_length]\n",
        "    label = 0 if i < len(moby_dick_text) else 1\n",
        "    sequences.append([char_to_index[char] for char in sequence])\n",
        "    labels.append(label)\n",
        "\n",
        "# Convert sequences and labels to NumPy arrays\n",
        "sequences = np.array(sequences)\n",
        "labels = np.array(labels)\n",
        "\n",
        "# Convert sequences to one-hot encodings\n",
        "one_hot_sequences = np.zeros((len(sequences), sequence_length, alphabet_length))\n",
        "for i, sequence in enumerate(sequences):\n",
        "    for j, char_index in enumerate(sequence):\n",
        "        one_hot_sequences[i, j, char_index] = 1\n",
        "\n",
        "# Print the shape of the one-hot sequences array\n",
        "print(one_hot_sequences.shape)\n",
        "print(unique_chars)\n",
        "\n"
      ]
    },
    {
      "cell_type": "markdown",
      "metadata": {},
      "source": [
        "# Understanding and checking one-hot encoding\n",
        "A given sequence is converted into numbers by taking each characer and translating it to the corresponding index in the alphabet. Each character is then given its own vector, for which it is one-hot encoded depending on which number it was in the alphabet."
      ]
    },
    {
      "cell_type": "code",
      "execution_count": 4,
      "metadata": {},
      "outputs": [
        {
          "name": "stdout",
          "output_type": "stream",
          "text": [
            "Are equal: True\n"
          ]
        }
      ],
      "source": [
        "# Initialize a matrix to hold the one-hot encoding\n",
        "one_hot_encoding = np.zeros((len(sequences[0]), alphabet_length))\n",
        "\n",
        "# Iterate over each character index in the sequence\n",
        "for i, char_index in enumerate(sequences[0]):\n",
        "    # Set the corresponding entry to 1\n",
        "    one_hot_encoding[i, char_index] = 1\n",
        "\n",
        "# Compare one_hot_sequences[0] with one_hot_encoding\n",
        "are_equal = np.array_equal(one_hot_sequences[0], one_hot_encoding)\n",
        "# Print the result\n",
        "print(\"Are equal:\", are_equal)\n"
      ]
    },
    {
      "cell_type": "code",
      "execution_count": 5,
      "metadata": {},
      "outputs": [
        {
          "name": "stdout",
          "output_type": "stream",
          "text": [
            "177202\n",
            "134739\n",
            "311941\n"
          ]
        }
      ],
      "source": [
        "print(len(moby_dick_text))\n",
        "print(len(pride_and_prejudice_text))\n",
        "print(len(combined_text))"
      ]
    },
    {
      "cell_type": "markdown",
      "metadata": {
        "id": "lL1Mc8ibHnep"
      },
      "source": [
        "## Data splitting\n",
        "Split the data into train, validate and test sets. Make"
      ]
    },
    {
      "cell_type": "code",
      "execution_count": 6,
      "metadata": {},
      "outputs": [
        {
          "name": "stdout",
          "output_type": "stream",
          "text": [
            "Train set shape: (3119, 60, 56)\n",
            "Test set shape: (1040, 60, 56)\n",
            "Validation set shape: (1040, 60, 56)\n"
          ]
        }
      ],
      "source": [
        "# Split the data and labels into train and remaining sets\n",
        "X_train, X_remaining, Y_train, Y_remaining = train_test_split(one_hot_sequences, labels, test_size=0.4, random_state=42)\n",
        "\n",
        "# Split the remaining data and labels into test and validation sets\n",
        "X_test, X_val, Y_test, Y_val = train_test_split(X_remaining, Y_remaining, test_size=0.5, random_state=42)\n",
        "\n",
        "# Print the shapes of the train, test, and validation sets\n",
        "print(\"Train set shape:\", X_train.shape)\n",
        "print(\"Test set shape:\", X_test.shape)\n",
        "print(\"Validation set shape:\", X_val.shape)\n"
      ]
    },
    {
      "cell_type": "code",
      "execution_count": 115,
      "metadata": {
        "id": "ELyG9XFUHrkB"
      },
      "outputs": [],
      "source": [
        "# # Define the proportions for train, test, and validation splits\n",
        "# train_ratio = 0.6\n",
        "# test_ratio = 0.2\n",
        "# val_ratio = 0.2\n",
        "\n",
        "# # Calculate the number of samples for each split\n",
        "# num_samples = len(one_hot_sequences)\n",
        "# num_train = int(train_ratio * num_samples)\n",
        "# num_test = int(test_ratio * num_samples)\n",
        "# num_val = num_samples - num_train - num_test\n",
        "\n",
        "# # Split the one_hot_sequences array into train, test, and validation sets\n",
        "# X_train = one_hot_sequences[:num_train]\n",
        "# X_test = one_hot_sequences[num_train:num_train+num_test]\n",
        "# X_val = one_hot_sequences[num_train+num_test:]\n",
        "\n",
        "# # Print the shapes of the train, test, and validation sets\n",
        "# print(\"Train set shape:\", X_train.shape)\n",
        "# print(\"Test set shape:\", X_test.shape)\n",
        "# print(\"Validation set shape:\", X_val.shape)\n",
        "\n",
        "# # Define the proportions for train, test, and validation splits\n",
        "# train_ratio = 0.6\n",
        "# test_ratio = 0.2\n",
        "# val_ratio = 0.2\n",
        "\n",
        "# # Calculate the number of samples for each split\n",
        "# num_samples = len(one_hot_sequences)\n",
        "# num_train = int(train_ratio * num_samples)\n",
        "# num_test = int(test_ratio * num_samples)\n",
        "# num_val = num_samples - num_train - num_test\n",
        "\n",
        "# # Split the labels array into train, test, and validation sets\n",
        "# Y_train = labels[:num_train]\n",
        "# Y_test = labels[num_train:num_train+num_test]\n",
        "# Y_val = labels[num_train+num_test:]\n",
        "\n",
        "# # Print the shapes of the train, test, and validation sets\n",
        "# print(\"Train set shape:\", Y_train.shape)\n",
        "# print(\"Test set shape:\", Y_test.shape)\n",
        "# print(\"Validation set shape:\", Y_val.shape)\n",
        "\n"
      ]
    },
    {
      "cell_type": "markdown",
      "metadata": {
        "id": "hA8U9tr7HrNQ"
      },
      "source": [
        "## Model definition\n",
        "Define a 1D CNN or an LSTM for the task. Compile the model with the correct loss function."
      ]
    },
    {
      "cell_type": "markdown",
      "metadata": {},
      "source": [
        "# CNN"
      ]
    },
    {
      "cell_type": "code",
      "execution_count": 7,
      "metadata": {
        "id": "BT1V1s4kHuUe"
      },
      "outputs": [],
      "source": [
        "# Define the model\n",
        "model_cnn = Sequential()\n",
        "model_cnn.add(Conv1D(64, 3, activation='relu', input_shape=(60, 56)))\n",
        "model_cnn.add(GlobalMaxPooling1D())\n",
        "model_cnn.add(Dense(64, activation='relu'))\n",
        "model_cnn.add(Dense(1, activation='sigmoid'))\n",
        "# Compile the model\n",
        "model_cnn.compile(loss='binary_crossentropy', optimizer='adam', metrics=['accuracy'])"
      ]
    },
    {
      "cell_type": "markdown",
      "metadata": {},
      "source": [
        "# LSTM"
      ]
    },
    {
      "cell_type": "code",
      "execution_count": 8,
      "metadata": {},
      "outputs": [],
      "source": [
        "# Define the model\n",
        "model_lstm = Sequential()\n",
        "model_lstm.add(LSTM(64, input_shape=(60, 56)))\n",
        "model_lstm.add(Dense(64, activation='relu'))\n",
        "model_lstm.add(Dense(1, activation='sigmoid'))\n",
        "\n",
        "# Compile the model\n",
        "model_lstm.compile(optimizer='adam', loss='binary_crossentropy', metrics=['accuracy'])\n"
      ]
    },
    {
      "cell_type": "markdown",
      "metadata": {
        "id": "hWFb-nAMHuAI"
      },
      "source": [
        "## Model training\n",
        "Train the model and apply early stopping."
      ]
    },
    {
      "cell_type": "code",
      "execution_count": 9,
      "metadata": {},
      "outputs": [
        {
          "name": "stdout",
          "output_type": "stream",
          "text": [
            "Model: \"sequential\"\n",
            "_________________________________________________________________\n",
            " Layer (type)                Output Shape              Param #   \n",
            "=================================================================\n",
            " conv1d (Conv1D)             (None, 58, 64)            10816     \n",
            "                                                                 \n",
            " global_max_pooling1d (Globa  (None, 64)               0         \n",
            " lMaxPooling1D)                                                  \n",
            "                                                                 \n",
            " dense (Dense)               (None, 64)                4160      \n",
            "                                                                 \n",
            " dense_1 (Dense)             (None, 1)                 65        \n",
            "                                                                 \n",
            "=================================================================\n",
            "Total params: 15,041\n",
            "Trainable params: 15,041\n",
            "Non-trainable params: 0\n",
            "_________________________________________________________________\n",
            "None\n",
            "Model: \"sequential_1\"\n",
            "_________________________________________________________________\n",
            " Layer (type)                Output Shape              Param #   \n",
            "=================================================================\n",
            " lstm (LSTM)                 (None, 64)                30976     \n",
            "                                                                 \n",
            " dense_2 (Dense)             (None, 64)                4160      \n",
            "                                                                 \n",
            " dense_3 (Dense)             (None, 1)                 65        \n",
            "                                                                 \n",
            "=================================================================\n",
            "Total params: 35,201\n",
            "Trainable params: 35,201\n",
            "Non-trainable params: 0\n",
            "_________________________________________________________________\n",
            "None\n"
          ]
        }
      ],
      "source": [
        "print(model_cnn.summary())\n",
        "print(model_lstm.summary())"
      ]
    },
    {
      "cell_type": "code",
      "execution_count": 16,
      "metadata": {
        "id": "dvgKjqp3Hwkp"
      },
      "outputs": [
        {
          "name": "stdout",
          "output_type": "stream",
          "text": [
            "Epoch 1/100\n",
            "98/98 [==============================] - 0s 3ms/step - loss: 0.1181 - accuracy: 0.9673 - val_loss: 0.3871 - val_accuracy: 0.8404\n",
            "Epoch 2/100\n",
            "98/98 [==============================] - 0s 3ms/step - loss: 0.0949 - accuracy: 0.9727 - val_loss: 0.3542 - val_accuracy: 0.8587\n",
            "Epoch 3/100\n",
            "98/98 [==============================] - 0s 2ms/step - loss: 0.0675 - accuracy: 0.9872 - val_loss: 0.3749 - val_accuracy: 0.8500\n",
            "Epoch 4/100\n",
            "98/98 [==============================] - 0s 2ms/step - loss: 0.0535 - accuracy: 0.9910 - val_loss: 0.3919 - val_accuracy: 0.8558\n",
            "Epoch 5/100\n",
            "98/98 [==============================] - 0s 2ms/step - loss: 0.0442 - accuracy: 0.9942 - val_loss: 0.4064 - val_accuracy: 0.8510\n",
            "Epoch 6/100\n",
            "98/98 [==============================] - 0s 2ms/step - loss: 0.0328 - accuracy: 0.9990 - val_loss: 0.4126 - val_accuracy: 0.8567\n",
            "Epoch 7/100\n",
            "98/98 [==============================] - 0s 2ms/step - loss: 0.0235 - accuracy: 1.0000 - val_loss: 0.4355 - val_accuracy: 0.8538\n",
            "Epoch 8/100\n",
            "98/98 [==============================] - 0s 2ms/step - loss: 0.0194 - accuracy: 1.0000 - val_loss: 0.4373 - val_accuracy: 0.8558\n",
            "Epoch 9/100\n",
            "98/98 [==============================] - 0s 2ms/step - loss: 0.0158 - accuracy: 1.0000 - val_loss: 0.4563 - val_accuracy: 0.8519\n",
            "Epoch 10/100\n",
            "98/98 [==============================] - 0s 2ms/step - loss: 0.0129 - accuracy: 1.0000 - val_loss: 0.4611 - val_accuracy: 0.8587\n",
            "Epoch 11/100\n",
            "98/98 [==============================] - 0s 2ms/step - loss: 0.0109 - accuracy: 1.0000 - val_loss: 0.4742 - val_accuracy: 0.8548\n",
            "Epoch 12/100\n",
            "98/98 [==============================] - 0s 2ms/step - loss: 0.0090 - accuracy: 1.0000 - val_loss: 0.4833 - val_accuracy: 0.8606\n"
          ]
        }
      ],
      "source": [
        "# Define the early stopping callback\n",
        "es = EarlyStopping(patience=10, restore_best_weights=True)\n",
        "es_lstm = EarlyStopping(patience=40, restore_best_weights=True)\n",
        "\n",
        "\n",
        "# Train the model\n",
        "cnn_history = model_cnn.fit(X_train, Y_train,\n",
        "                            validation_data=(X_val,Y_val),\n",
        "                            batch_size=32,\n",
        "                            epochs=100,\n",
        "                            verbose=1,\n",
        "                            callbacks=[es])"
      ]
    },
    {
      "cell_type": "code",
      "execution_count": 18,
      "metadata": {},
      "outputs": [
        {
          "name": "stdout",
          "output_type": "stream",
          "text": [
            "Epoch 1/100\n",
            "98/98 [==============================] - 1s 15ms/step - loss: 0.3674 - accuracy: 0.8201 - val_loss: 0.5486 - val_accuracy: 0.7337\n",
            "Epoch 2/100\n",
            "98/98 [==============================] - 1s 14ms/step - loss: 0.3475 - accuracy: 0.8269 - val_loss: 0.5958 - val_accuracy: 0.7327\n",
            "Epoch 3/100\n",
            "98/98 [==============================] - 1s 14ms/step - loss: 0.3473 - accuracy: 0.8317 - val_loss: 0.6074 - val_accuracy: 0.7240\n",
            "Epoch 4/100\n",
            "98/98 [==============================] - 1s 14ms/step - loss: 0.3405 - accuracy: 0.8336 - val_loss: 0.5577 - val_accuracy: 0.7308\n",
            "Epoch 5/100\n",
            "98/98 [==============================] - 1s 14ms/step - loss: 0.3253 - accuracy: 0.8381 - val_loss: 0.6039 - val_accuracy: 0.7337\n",
            "Epoch 6/100\n",
            "98/98 [==============================] - 1s 14ms/step - loss: 0.3559 - accuracy: 0.8259 - val_loss: 0.6212 - val_accuracy: 0.7394\n",
            "Epoch 7/100\n",
            "98/98 [==============================] - 1s 14ms/step - loss: 0.3285 - accuracy: 0.8477 - val_loss: 0.6031 - val_accuracy: 0.7462\n",
            "Epoch 8/100\n",
            "98/98 [==============================] - 1s 14ms/step - loss: 0.3108 - accuracy: 0.8483 - val_loss: 0.7144 - val_accuracy: 0.7481\n",
            "Epoch 9/100\n",
            "98/98 [==============================] - 1s 14ms/step - loss: 0.3055 - accuracy: 0.8548 - val_loss: 0.6171 - val_accuracy: 0.7462\n",
            "Epoch 10/100\n",
            "98/98 [==============================] - 1s 14ms/step - loss: 0.2811 - accuracy: 0.8714 - val_loss: 0.6442 - val_accuracy: 0.7279\n",
            "Epoch 11/100\n",
            "98/98 [==============================] - 1s 14ms/step - loss: 0.2867 - accuracy: 0.8625 - val_loss: 0.6107 - val_accuracy: 0.7327\n",
            "Epoch 12/100\n",
            "98/98 [==============================] - 1s 15ms/step - loss: 0.2521 - accuracy: 0.8868 - val_loss: 0.7663 - val_accuracy: 0.7385\n",
            "Epoch 13/100\n",
            "98/98 [==============================] - 1s 14ms/step - loss: 0.2732 - accuracy: 0.8811 - val_loss: 0.6460 - val_accuracy: 0.7452\n",
            "Epoch 14/100\n",
            "98/98 [==============================] - 1s 14ms/step - loss: 0.2732 - accuracy: 0.8762 - val_loss: 0.6218 - val_accuracy: 0.7317\n",
            "Epoch 15/100\n",
            "98/98 [==============================] - 1s 14ms/step - loss: 0.2346 - accuracy: 0.8971 - val_loss: 0.7190 - val_accuracy: 0.7365\n",
            "Epoch 16/100\n",
            "98/98 [==============================] - 1s 14ms/step - loss: 0.2318 - accuracy: 0.8987 - val_loss: 0.6725 - val_accuracy: 0.7202\n",
            "Epoch 17/100\n",
            "98/98 [==============================] - 1s 14ms/step - loss: 0.2739 - accuracy: 0.8801 - val_loss: 0.6974 - val_accuracy: 0.7337\n",
            "Epoch 18/100\n",
            "98/98 [==============================] - 1s 14ms/step - loss: 0.2128 - accuracy: 0.9086 - val_loss: 0.7730 - val_accuracy: 0.7413\n",
            "Epoch 19/100\n",
            "98/98 [==============================] - 1s 15ms/step - loss: 0.1809 - accuracy: 0.9234 - val_loss: 0.7864 - val_accuracy: 0.7327\n",
            "Epoch 20/100\n",
            "98/98 [==============================] - 1s 14ms/step - loss: 0.1860 - accuracy: 0.9205 - val_loss: 0.7649 - val_accuracy: 0.7490\n",
            "Epoch 21/100\n",
            "98/98 [==============================] - 1s 14ms/step - loss: 0.1752 - accuracy: 0.9266 - val_loss: 0.8090 - val_accuracy: 0.7500\n",
            "Epoch 22/100\n",
            "98/98 [==============================] - 1s 14ms/step - loss: 0.1613 - accuracy: 0.9295 - val_loss: 0.8470 - val_accuracy: 0.7442\n",
            "Epoch 23/100\n",
            "98/98 [==============================] - 1s 14ms/step - loss: 0.1437 - accuracy: 0.9394 - val_loss: 0.8617 - val_accuracy: 0.7442\n",
            "Epoch 24/100\n",
            "98/98 [==============================] - 1s 14ms/step - loss: 0.1335 - accuracy: 0.9436 - val_loss: 0.9646 - val_accuracy: 0.7567\n",
            "Epoch 25/100\n",
            "98/98 [==============================] - 1s 14ms/step - loss: 0.1824 - accuracy: 0.9240 - val_loss: 0.8529 - val_accuracy: 0.7625\n",
            "Epoch 26/100\n",
            "98/98 [==============================] - 1s 14ms/step - loss: 0.1336 - accuracy: 0.9452 - val_loss: 0.8198 - val_accuracy: 0.7500\n",
            "Epoch 27/100\n",
            "98/98 [==============================] - 1s 14ms/step - loss: 0.1201 - accuracy: 0.9538 - val_loss: 0.9374 - val_accuracy: 0.7442\n",
            "Epoch 28/100\n",
            "98/98 [==============================] - 2s 16ms/step - loss: 0.0903 - accuracy: 0.9673 - val_loss: 1.0239 - val_accuracy: 0.7471\n",
            "Epoch 29/100\n",
            "98/98 [==============================] - 1s 15ms/step - loss: 0.0837 - accuracy: 0.9679 - val_loss: 1.1057 - val_accuracy: 0.7423\n",
            "Epoch 30/100\n",
            "98/98 [==============================] - 1s 15ms/step - loss: 0.0707 - accuracy: 0.9750 - val_loss: 1.1152 - val_accuracy: 0.7423\n",
            "Epoch 31/100\n",
            "98/98 [==============================] - 2s 15ms/step - loss: 0.1218 - accuracy: 0.9493 - val_loss: 1.1541 - val_accuracy: 0.7385\n",
            "Epoch 32/100\n",
            "98/98 [==============================] - 1s 15ms/step - loss: 0.0906 - accuracy: 0.9667 - val_loss: 1.0990 - val_accuracy: 0.7269\n",
            "Epoch 33/100\n",
            "98/98 [==============================] - 1s 14ms/step - loss: 0.1110 - accuracy: 0.9574 - val_loss: 1.0997 - val_accuracy: 0.7365\n",
            "Epoch 34/100\n",
            "98/98 [==============================] - 1s 14ms/step - loss: 0.0572 - accuracy: 0.9830 - val_loss: 1.1727 - val_accuracy: 0.7683\n",
            "Epoch 35/100\n",
            "98/98 [==============================] - 1s 14ms/step - loss: 0.0379 - accuracy: 0.9891 - val_loss: 1.3411 - val_accuracy: 0.7510\n",
            "Epoch 36/100\n",
            "98/98 [==============================] - 1s 14ms/step - loss: 0.0775 - accuracy: 0.9718 - val_loss: 1.2877 - val_accuracy: 0.7510\n",
            "Epoch 37/100\n",
            "98/98 [==============================] - 1s 14ms/step - loss: 0.0323 - accuracy: 0.9901 - val_loss: 1.4127 - val_accuracy: 0.7529\n",
            "Epoch 38/100\n",
            "98/98 [==============================] - 1s 14ms/step - loss: 0.0392 - accuracy: 0.9862 - val_loss: 1.4090 - val_accuracy: 0.7385\n",
            "Epoch 39/100\n",
            "98/98 [==============================] - 1s 14ms/step - loss: 0.0390 - accuracy: 0.9897 - val_loss: 1.5950 - val_accuracy: 0.7375\n",
            "Epoch 40/100\n",
            "98/98 [==============================] - 1s 14ms/step - loss: 0.0738 - accuracy: 0.9731 - val_loss: 1.3276 - val_accuracy: 0.7327\n",
            "Epoch 41/100\n",
            "98/98 [==============================] - 1s 14ms/step - loss: 0.0836 - accuracy: 0.9676 - val_loss: 1.2675 - val_accuracy: 0.7375\n"
          ]
        }
      ],
      "source": [
        "lstm_history = model_lstm.fit(X_train, Y_train,\n",
        "                            validation_data=(X_val, Y_val),\n",
        "                            batch_size=32,\n",
        "                            epochs=100,\n",
        "                            verbose=1,\n",
        "                            callbacks=[es_lstm])\n"
      ]
    },
    {
      "cell_type": "markdown",
      "metadata": {
        "id": "0omw2XzSHwOo"
      },
      "source": [
        "## Evaluation on test data\n",
        "Evaluate the model on the test data in terms of loss and accuracy."
      ]
    },
    {
      "cell_type": "code",
      "execution_count": 19,
      "metadata": {
        "id": "4bF3dQA1Hv_R"
      },
      "outputs": [
        {
          "name": "stdout",
          "output_type": "stream",
          "text": [
            "33/33 [==============================] - 0s 2ms/step - loss: 0.3949 - accuracy: 0.8519\n",
            "CNN Test Loss: 0.3949, CNN Test Accuracy: 0.8519\n",
            "33/33 [==============================] - 0s 4ms/step - loss: 0.6223 - accuracy: 0.7183\n",
            "LSTM Test Loss: 0.6223, LSTM Test Accuracy: 0.7183\n"
          ]
        }
      ],
      "source": [
        "# For 1D CNN model\n",
        "loss, accuracy = model_cnn.evaluate(X_test, Y_test)\n",
        "print(f'CNN Test Loss: {loss:.4f}, CNN Test Accuracy: {accuracy:.4f}')\n",
        "\n",
        "# For LSTM model\n",
        "loss, accuracy = model_lstm.evaluate(X_test, Y_test)\n",
        "print(f'LSTM Test Loss: {loss:.4f}, LSTM Test Accuracy: {accuracy:.4f}')"
      ]
    },
    {
      "cell_type": "markdown",
      "metadata": {
        "id": "4Y73Q-h5Hz1r"
      },
      "source": [
        "## Confusion matrix\n",
        "Calculate and display the confusion matrix."
      ]
    },
    {
      "cell_type": "code",
      "execution_count": 20,
      "metadata": {
        "id": "cW8zZi1uJm2B"
      },
      "outputs": [
        {
          "name": "stdout",
          "output_type": "stream",
          "text": [
            " 1/33 [..............................] - ETA: 0s"
          ]
        },
        {
          "name": "stdout",
          "output_type": "stream",
          "text": [
            "33/33 [==============================] - 0s 851us/step\n"
          ]
        },
        {
          "data": {
            "image/png": "[encoded data removed]",
            "text/plain": [
              "<Figure size 640x480 with 2 Axes>"
            ]
          },
          "metadata": {},
          "output_type": "display_data"
        },
        {
          "name": "stdout",
          "output_type": "stream",
          "text": [
            "33/33 [==============================] - 0s 4ms/step\n"
          ]
        },
        {
          "data": {
            "image/png": "[encoded data removed]",
            "text/plain": [
              "<Figure size 640x480 with 2 Axes>"
            ]
          },
          "metadata": {},
          "output_type": "display_data"
        }
      ],
      "source": [
        "# Define the true labels and predicted labels\n",
        "true_labels = Y_test\n",
        "\n",
        "# For 1D CNN model\n",
        "\n",
        "# Predict the labels\n",
        "predicted_probabilities = model_cnn.predict(X_test)\n",
        "predicted_labels = [1 if prob > 0.5 else 0 for prob in predicted_probabilities]\n",
        "\n",
        "# Calculate the confusion matrix\n",
        "cm = confusion_matrix(true_labels, predicted_labels)\n",
        "\n",
        "# Plot the confusion matrix\n",
        "sns.heatmap(cm, annot=True, fmt='d', cmap='Blues')\n",
        "plt.xlabel('Predicted Labels')\n",
        "plt.ylabel('True Labels')\n",
        "plt.title('CNN Confusion Matrix')\n",
        "plt.show()\n",
        "\n",
        "predicted_probabilities = model_lstm.predict(X_test)\n",
        "predicted_labels = [1 if prob > 0.5 else 0 for prob in predicted_probabilities]\n",
        "\n",
        "# Calculate the confusion matrix\n",
        "cm = confusion_matrix(true_labels, predicted_labels)\n",
        "\n",
        "# Plot the confusion matrix\n",
        "sns.heatmap(cm, annot=True, fmt='d', cmap='Blues')\n",
        "plt.xlabel('Predicted Labels')\n",
        "plt.ylabel('True Labels')\n",
        "plt.title('LSTM Confusion Matrix')\n",
        "plt.show()\n"
      ]
    },
    {
      "cell_type": "code",
      "execution_count": null,
      "metadata": {},
      "outputs": [],
      "source": []
    }
  ],
  "metadata": {
    "colab": {
      "provenance": []
    },
    "kernelspec": {
      "display_name": "Python 3",
      "language": "python",
      "name": "python3"
    },
    "language_info": {
      "codemirror_mode": {
        "name": "ipython",
        "version": 3
      },
      "file_extension": ".py",
      "mimetype": "text/x-python",
      "name": "python",
      "nbconvert_exporter": "python",
      "pygments_lexer": "ipython3",
      "version": "3.11.4"
    }
  },
  "nbformat": 4,
  "nbformat_minor": 0
}
