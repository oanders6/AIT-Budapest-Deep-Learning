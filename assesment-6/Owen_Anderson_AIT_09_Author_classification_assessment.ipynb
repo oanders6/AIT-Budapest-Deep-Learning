{
  "cells": [
    {
      "cell_type": "markdown",
      "metadata": {
        "id": "_jiGtJu6u9ml"
      },
      "source": [
        "# Copyright\n",
        "\n",
        "<PRE>\n",
        "Copyright (c) 2023 Bálint Gyires-Tóth - All Rights Reserved\n",
        "You may use and modify this code for research and development purpuses.\n",
        "Use this code for educational purposes (self-paced or instructor led) without the permission of the author is prohibited.\n",
        "</PRE>"
      ]
    },
    {
      "cell_type": "markdown",
      "metadata": {
        "id": "oXyFC44jV-PP"
      },
      "source": [
        "# Author classification\n",
        "The task is to train a 1D CNN or an LSTM that is able to  classify text from two authors. The final model should be able to tell about a text with a given length (e.g. 60 characters) who wrote it.\n",
        "\n",
        "Please write the codes according to the following parts:"
      ]
    },
    {
      "cell_type": "markdown",
      "metadata": {
        "id": "jCnLoeGrHXsp"
      },
      "source": [
        "## Python module imports\n",
        "Import all Python modules that you would need during the Assignment."
      ]
    },
    {
      "cell_type": "code",
      "execution_count": 1,
      "metadata": {
        "id": "7itbFGt3HXVT"
      },
      "outputs": [],
      "source": [
        "import pandas as pd\n",
        "import numpy as np\n",
        "from collections import Counter\n",
        "from nltk.corpus import stopwords\n",
        "from nltk.tokenize import word_tokenize\n",
        "from nltk.stem import PorterStemmer\n",
        "from nltk import FreqDist\n",
        "import matplotlib.pyplot as plt\n",
        "import seaborn as sns\n",
        "from wordcloud import WordCloud\n",
        "import spacy\n",
        "from spacy import displacy\n",
        "from sklearn.model_selection import train_test_split\n",
        "from sklearn.metrics import confusion_matrix\n",
        "import seaborn as sns\n",
        "from collections import Counter\n",
        "from tensorflow.keras.models import Sequential\n",
        "from tensorflow.keras.layers import Embedding, Conv1D, LSTM, Dense, GlobalMaxPooling1D\n",
        "from tensorflow.keras.callbacks import EarlyStopping\n",
        "# import en_core_web_sm as en"
      ]
    },
    {
      "cell_type": "markdown",
      "metadata": {
        "id": "Hr617tEpHd8R"
      },
      "source": [
        "## Data acquisition\n",
        "Seek a possible dataset, you can use any source, e.g.\n",
        "* http://www.gutenberg.org/\n",
        "* https://www.kaggle.com/datasets\n",
        "* https://paperswithcode.com/datasets\n",
        "* if you would like to learn Hungarian, than e.g. https://mek.oszk.hu/\n",
        "\n",
        "You can download the text by hand (e.g. by copy-pasting some parts into txt files) or with Python."
      ]
    },
    {
      "cell_type": "markdown",
      "metadata": {},
      "source": [
        "# Text was downloaded and cleaned by hand from https://www.gutenberg.org/ and saved in the \"data\" folder"
      ]
    },
    {
      "cell_type": "markdown",
      "metadata": {
        "id": "U9Pmq91t3SRD"
      },
      "source": [
        "## Data analysis\n",
        "Count the number of characters from both authors and display them on a plot (e.g. Seaborn's countplot)."
      ]
    },
    {
      "cell_type": "code",
      "execution_count": 2,
      "metadata": {
        "id": "uRqGdn4F3Spk"
      },
      "outputs": [
        {
          "data": {
            "text/plain": [
              "<Axes: xlabel='Book', ylabel='Character Count'>"
            ]
          },
          "execution_count": 2,
          "metadata": {},
          "output_type": "execute_result"
        },
        {
          "data": {
            "image/png": "[encoded data removed]",
            "text/plain": [
              "<Figure size 640x480 with 1 Axes>"
            ]
          },
          "metadata": {},
          "output_type": "display_data"
        }
      ],
      "source": [
        "# Read the files\n",
        "moby_dick_file = \"data/moby_dick.txt\"\n",
        "pride_and_prejudice_file = \"data/pride_and_prejudice.txt\"\n",
        "\n",
        "with open(moby_dick_file, \"r\") as file:\n",
        "    moby_dick_text = file.read()\n",
        "\n",
        "with open(pride_and_prejudice_file, \"r\") as file:\n",
        "    pride_and_prejudice_text = file.read()\n",
        "\n",
        "# Count the number of characters\n",
        "moby_dick_count = len(moby_dick_text)\n",
        "pride_and_prejudice_count = len(pride_and_prejudice_text)\n",
        "\n",
        "# Create a dataframe\n",
        "data = pd.DataFrame({'Book': ['Moby Dick', 'Pride and Prejudice'], 'Character Count': [moby_dick_count, pride_and_prejudice_count]})\n",
        "\n",
        "# Plot the countplot\n",
        "sns.barplot(x='Book', y='Character Count', data=data)\n"
      ]
    },
    {
      "cell_type": "markdown",
      "metadata": {
        "id": "cHyE_ndGIblJ"
      },
      "source": [
        "## Data loading, labeling and preprocessing\n",
        "Load the data and convert the characters into one-hot encodings. Then load the data into a 3D NumPy array, with a shape of\n",
        "\n",
        "* (batch, sequence_length, alphabet_length)\n",
        "\n",
        "where sequence_length=60, and alphabet_length equals to the number of unique characters in both datasets. The sequences should be cut out from the complete dataset by sliding window. You should add 0 and 1 labels to the sequences, according to the author.\n",
        "\n",
        "Later you may change sequence_length to achieve better results!"
      ]
    },
    {
      "cell_type": "code",
      "execution_count": 3,
      "metadata": {
        "id": "arooXt0WIb6x"
      },
      "outputs": [
        {
          "name": "stdout",
          "output_type": "stream",
          "text": [
            "(5199, 60, 56)\n",
            "['\\n', ' ', '!', '(', ')', '*', ',', '-', '.', '/', '0', '1', '2', '3', '5', '6', '7', '8', '9', ':', ';', '?', '_', 'a', 'b', 'c', 'd', 'e', 'f', 'g', 'h', 'i', 'j', 'k', 'l', 'm', 'n', 'o', 'p', 'q', 'r', 's', 't', 'u', 'v', 'w', 'x', 'y', 'z', 'é', 'œ', '—', '‘', '’', '“', '”']\n"
          ]
        }
      ],
      "source": [
        "# Load the data from the files\n",
        "moby_dick_file = \"data/moby_dick.txt\"\n",
        "pride_and_prejudice_file = \"data/pride_and_prejudice.txt\"\n",
        "\n",
        "with open(moby_dick_file, \"r\") as file:\n",
        "    moby_dick_text = file.read()\n",
        "\n",
        "with open(pride_and_prejudice_file, \"r\") as file:\n",
        "    pride_and_prejudice_text = file.read()\n",
        "\n",
        "# Combine the texts\n",
        "combined_text = moby_dick_text + pride_and_prejudice_text\n",
        "\n",
        "# Convert to lowercase\n",
        "combined_text = combined_text.lower()\n",
        "\n",
        "# Create a set of unique characters\n",
        "unique_chars = sorted(set(combined_text))\n",
        "\n",
        "# Create a mapping from characters to indices\n",
        "char_to_index = {char: index for index, char in enumerate(unique_chars)}\n",
        "\n",
        "# Determine the number of unique characters\n",
        "alphabet_length = len(unique_chars)\n",
        "\n",
        "# Define the sequence length\n",
        "sequence_length = 60\n",
        "\n",
        "# Create empty lists for sequences and labels\n",
        "sequences = []\n",
        "labels = []\n",
        "\n",
        "# Generate sequences and labels using sliding window\n",
        "for i in range(0, len(combined_text) - sequence_length + 1, sequence_length):\n",
        "    sequence = combined_text[i:i+sequence_length]\n",
        "    label = 0 if i < len(moby_dick_text) else 1\n",
        "    sequences.append([char_to_index[char] for char in sequence])\n",
        "    labels.append(label)\n",
        "\n",
        "# Convert sequences and labels to NumPy arrays\n",
        "sequences = np.array(sequences)\n",
        "labels = np.array(labels)\n",
        "\n",
        "# Convert sequences to one-hot encodings\n",
        "one_hot_sequences = np.zeros((len(sequences), sequence_length, alphabet_length))\n",
        "for i, sequence in enumerate(sequences):\n",
        "    for j, char_index in enumerate(sequence):\n",
        "        one_hot_sequences[i, j, char_index] = 1\n",
        "\n",
        "# Print the shape of the one-hot sequences array\n",
        "print(one_hot_sequences.shape)\n",
        "print(unique_chars)\n",
        "\n"
      ]
    },
    {
      "cell_type": "markdown",
      "metadata": {},
      "source": [
        "# Understanding and checking one-hot encoding\n",
        "A given sequence is converted into numbers by taking each characer and translating it to the corresponding index in the alphabet. Each character is then given its own vector, for which it is one-hot encoded depending on which number it was in the alphabet."
      ]
    },
    {
      "cell_type": "code",
      "execution_count": 4,
      "metadata": {},
      "outputs": [
        {
          "name": "stdout",
          "output_type": "stream",
          "text": [
            "Are equal: True\n"
          ]
        }
      ],
      "source": [
        "# Initialize a matrix to hold the one-hot encoding\n",
        "one_hot_encoding = np.zeros((len(sequences[0]), alphabet_length))\n",
        "\n",
        "# Iterate over each character index in the sequence\n",
        "for i, char_index in enumerate(sequences[0]):\n",
        "    # Set the corresponding entry to 1\n",
        "    one_hot_encoding[i, char_index] = 1\n",
        "\n",
        "# Compare one_hot_sequences[0] with one_hot_encoding\n",
        "are_equal = np.array_equal(one_hot_sequences[0], one_hot_encoding)\n",
        "# Print the result\n",
        "print(\"Are equal:\", are_equal)\n"
      ]
    },
    {
      "cell_type": "code",
      "execution_count": 5,
      "metadata": {},
      "outputs": [
        {
          "name": "stdout",
          "output_type": "stream",
          "text": [
            "177202\n",
            "134739\n",
            "311941\n"
          ]
        }
      ],
      "source": [
        "print(len(moby_dick_text))\n",
        "print(len(pride_and_prejudice_text))\n",
        "print(len(combined_text))"
      ]
    },
    {
      "cell_type": "markdown",
      "metadata": {
        "id": "lL1Mc8ibHnep"
      },
      "source": [
        "## Data splitting\n",
        "Split the data into train, validate and test sets. Make"
      ]
    },
    {
      "cell_type": "code",
      "execution_count": 6,
      "metadata": {},
      "outputs": [
        {
          "name": "stdout",
          "output_type": "stream",
          "text": [
            "Train set shape: (3119, 60, 56)\n",
            "Test set shape: (1040, 60, 56)\n",
            "Validation set shape: (1040, 60, 56)\n"
          ]
        }
      ],
      "source": [
        "# Split the data and labels into train and remaining sets\n",
        "X_train, X_remaining, Y_train, Y_remaining = train_test_split(one_hot_sequences, labels, test_size=0.4, random_state=42)\n",
        "\n",
        "# Split the remaining data and labels into test and validation sets\n",
        "X_test, X_val, Y_test, Y_val = train_test_split(X_remaining, Y_remaining, test_size=0.5, random_state=42)\n",
        "\n",
        "# Print the shapes of the train, test, and validation sets\n",
        "print(\"Train set shape:\", X_train.shape)\n",
        "print(\"Test set shape:\", X_test.shape)\n",
        "print(\"Validation set shape:\", X_val.shape)\n"
      ]
    },
    {
      "cell_type": "markdown",
      "metadata": {
        "id": "hA8U9tr7HrNQ"
      },
      "source": [
        "## Model definition\n",
        "Define a 1D CNN or an LSTM for the task. Compile the model with the correct loss function."
      ]
    },
    {
      "cell_type": "markdown",
      "metadata": {},
      "source": [
        "I did both because I had the time + had already spent a good while loading the data"
      ]
    },
    {
      "cell_type": "markdown",
      "metadata": {},
      "source": [
        "# CNN"
      ]
    },
    {
      "cell_type": "code",
      "execution_count": 8,
      "metadata": {
        "id": "BT1V1s4kHuUe"
      },
      "outputs": [],
      "source": [
        "# Define the model\n",
        "model_cnn = Sequential()\n",
        "model_cnn.add(Conv1D(64, 3, activation='relu', input_shape=(60, 56)))\n",
        "model_cnn.add(GlobalMaxPooling1D())\n",
        "model_cnn.add(Dense(64, activation='relu'))\n",
        "model_cnn.add(Dense(1, activation='sigmoid'))\n",
        "# Compile the model\n",
        "model_cnn.compile(loss='binary_crossentropy', optimizer='adam', metrics=['accuracy'])"
      ]
    },
    {
      "cell_type": "markdown",
      "metadata": {},
      "source": [
        "# LSTM"
      ]
    },
    {
      "cell_type": "code",
      "execution_count": 9,
      "metadata": {},
      "outputs": [],
      "source": [
        "# Define the model\n",
        "model_lstm = Sequential()\n",
        "model_lstm.add(LSTM(64, input_shape=(60, 56)))\n",
        "model_lstm.add(Dense(64, activation='relu'))\n",
        "model_lstm.add(Dense(1, activation='sigmoid'))\n",
        "\n",
        "# Compile the model\n",
        "model_lstm.compile(optimizer='adam', loss='binary_crossentropy', metrics=['accuracy'])\n"
      ]
    },
    {
      "cell_type": "markdown",
      "metadata": {
        "id": "hWFb-nAMHuAI"
      },
      "source": [
        "## Model training\n",
        "Train the model and apply early stopping."
      ]
    },
    {
      "cell_type": "code",
      "execution_count": 10,
      "metadata": {},
      "outputs": [
        {
          "name": "stdout",
          "output_type": "stream",
          "text": [
            "Model: \"sequential\"\n",
            "_________________________________________________________________\n",
            " Layer (type)                Output Shape              Param #   \n",
            "=================================================================\n",
            " conv1d (Conv1D)             (None, 58, 64)            10816     \n",
            "                                                                 \n",
            " global_max_pooling1d (Globa  (None, 64)               0         \n",
            " lMaxPooling1D)                                                  \n",
            "                                                                 \n",
            " dense (Dense)               (None, 64)                4160      \n",
            "                                                                 \n",
            " dense_1 (Dense)             (None, 1)                 65        \n",
            "                                                                 \n",
            "=================================================================\n",
            "Total params: 15,041\n",
            "Trainable params: 15,041\n",
            "Non-trainable params: 0\n",
            "_________________________________________________________________\n",
            "None\n",
            "Model: \"sequential_1\"\n",
            "_________________________________________________________________\n",
            " Layer (type)                Output Shape              Param #   \n",
            "=================================================================\n",
            " lstm (LSTM)                 (None, 64)                30976     \n",
            "                                                                 \n",
            " dense_2 (Dense)             (None, 64)                4160      \n",
            "                                                                 \n",
            " dense_3 (Dense)             (None, 1)                 65        \n",
            "                                                                 \n",
            "=================================================================\n",
            "Total params: 35,201\n",
            "Trainable params: 35,201\n",
            "Non-trainable params: 0\n",
            "_________________________________________________________________\n",
            "None\n"
          ]
        }
      ],
      "source": [
        "print(model_cnn.summary())\n",
        "print(model_lstm.summary())"
      ]
    },
    {
      "cell_type": "code",
      "execution_count": 11,
      "metadata": {
        "id": "dvgKjqp3Hwkp"
      },
      "outputs": [
        {
          "name": "stdout",
          "output_type": "stream",
          "text": [
            "Epoch 1/100\n"
          ]
        },
        {
          "name": "stderr",
          "output_type": "stream",
          "text": [
            "2024-04-27 00:07:57.080146: W tensorflow/tsl/platform/profile_utils/cpu_utils.cc:128] Failed to get CPU frequency: 0 Hz\n"
          ]
        },
        {
          "name": "stdout",
          "output_type": "stream",
          "text": [
            "98/98 [==============================] - 1s 3ms/step - loss: 0.6814 - accuracy: 0.5617 - val_loss: 0.6691 - val_accuracy: 0.6481\n",
            "Epoch 2/100\n",
            "98/98 [==============================] - 0s 2ms/step - loss: 0.6418 - accuracy: 0.6403 - val_loss: 0.6121 - val_accuracy: 0.7673\n",
            "Epoch 3/100\n",
            "98/98 [==============================] - 0s 2ms/step - loss: 0.5455 - accuracy: 0.7676 - val_loss: 0.4996 - val_accuracy: 0.7894\n",
            "Epoch 4/100\n",
            "98/98 [==============================] - 0s 2ms/step - loss: 0.4305 - accuracy: 0.8150 - val_loss: 0.4252 - val_accuracy: 0.8029\n",
            "Epoch 5/100\n",
            "98/98 [==============================] - 0s 2ms/step - loss: 0.3488 - accuracy: 0.8660 - val_loss: 0.3874 - val_accuracy: 0.8212\n",
            "Epoch 6/100\n",
            "98/98 [==============================] - 0s 2ms/step - loss: 0.2939 - accuracy: 0.8839 - val_loss: 0.3689 - val_accuracy: 0.8250\n",
            "Epoch 7/100\n",
            "98/98 [==============================] - 0s 2ms/step - loss: 0.2500 - accuracy: 0.9067 - val_loss: 0.3520 - val_accuracy: 0.8346\n",
            "Epoch 8/100\n",
            "98/98 [==============================] - 0s 2ms/step - loss: 0.2203 - accuracy: 0.9182 - val_loss: 0.3748 - val_accuracy: 0.8250\n",
            "Epoch 9/100\n",
            "98/98 [==============================] - 0s 2ms/step - loss: 0.1907 - accuracy: 0.9336 - val_loss: 0.3468 - val_accuracy: 0.8433\n",
            "Epoch 10/100\n",
            "98/98 [==============================] - 0s 2ms/step - loss: 0.1701 - accuracy: 0.9413 - val_loss: 0.3554 - val_accuracy: 0.8385\n",
            "Epoch 11/100\n",
            "98/98 [==============================] - 0s 2ms/step - loss: 0.1416 - accuracy: 0.9590 - val_loss: 0.3450 - val_accuracy: 0.8394\n",
            "Epoch 12/100\n",
            "98/98 [==============================] - 0s 2ms/step - loss: 0.1247 - accuracy: 0.9631 - val_loss: 0.3526 - val_accuracy: 0.8413\n",
            "Epoch 13/100\n",
            "98/98 [==============================] - 0s 2ms/step - loss: 0.1068 - accuracy: 0.9711 - val_loss: 0.3834 - val_accuracy: 0.8452\n",
            "Epoch 14/100\n",
            "98/98 [==============================] - 0s 2ms/step - loss: 0.0912 - accuracy: 0.9772 - val_loss: 0.3710 - val_accuracy: 0.8471\n",
            "Epoch 15/100\n",
            "98/98 [==============================] - 0s 3ms/step - loss: 0.0772 - accuracy: 0.9853 - val_loss: 0.3746 - val_accuracy: 0.8471\n",
            "Epoch 16/100\n",
            "98/98 [==============================] - 0s 2ms/step - loss: 0.0668 - accuracy: 0.9891 - val_loss: 0.3850 - val_accuracy: 0.8452\n",
            "Epoch 17/100\n",
            "98/98 [==============================] - 0s 2ms/step - loss: 0.0558 - accuracy: 0.9923 - val_loss: 0.3958 - val_accuracy: 0.8413\n",
            "Epoch 18/100\n",
            "98/98 [==============================] - 0s 2ms/step - loss: 0.0459 - accuracy: 0.9945 - val_loss: 0.4052 - val_accuracy: 0.8442\n",
            "Epoch 19/100\n",
            "98/98 [==============================] - 0s 2ms/step - loss: 0.0392 - accuracy: 0.9984 - val_loss: 0.4212 - val_accuracy: 0.8394\n",
            "Epoch 20/100\n",
            "98/98 [==============================] - 0s 2ms/step - loss: 0.0331 - accuracy: 0.9997 - val_loss: 0.4322 - val_accuracy: 0.8385\n",
            "Epoch 21/100\n",
            "98/98 [==============================] - 0s 2ms/step - loss: 0.0276 - accuracy: 0.9994 - val_loss: 0.4476 - val_accuracy: 0.8413\n"
          ]
        }
      ],
      "source": [
        "# Define the early stopping callback\n",
        "es = EarlyStopping(patience=10, restore_best_weights=True)\n",
        "es_lstm = EarlyStopping(patience=40, restore_best_weights=True)\n",
        "\n",
        "\n",
        "# Train the model\n",
        "cnn_history = model_cnn.fit(X_train, Y_train,\n",
        "                            validation_data=(X_val,Y_val),\n",
        "                            batch_size=32,\n",
        "                            epochs=100,\n",
        "                            verbose=1,\n",
        "                            callbacks=[es])"
      ]
    },
    {
      "cell_type": "code",
      "execution_count": 12,
      "metadata": {},
      "outputs": [
        {
          "name": "stdout",
          "output_type": "stream",
          "text": [
            "Epoch 1/100\n",
            "98/98 [==============================] - 2s 16ms/step - loss: 0.6842 - accuracy: 0.5643 - val_loss: 0.6607 - val_accuracy: 0.6558\n",
            "Epoch 2/100\n",
            "98/98 [==============================] - 1s 14ms/step - loss: 0.6410 - accuracy: 0.6194 - val_loss: 0.6415 - val_accuracy: 0.6298\n",
            "Epoch 3/100\n",
            "98/98 [==============================] - 1s 14ms/step - loss: 0.6168 - accuracy: 0.6451 - val_loss: 0.6079 - val_accuracy: 0.6394\n",
            "Epoch 4/100\n",
            "98/98 [==============================] - 1s 14ms/step - loss: 0.5987 - accuracy: 0.6643 - val_loss: 0.5754 - val_accuracy: 0.6798\n",
            "Epoch 5/100\n",
            "98/98 [==============================] - 1s 14ms/step - loss: 0.5772 - accuracy: 0.6736 - val_loss: 0.5976 - val_accuracy: 0.6683\n",
            "Epoch 6/100\n",
            "98/98 [==============================] - 1s 14ms/step - loss: 0.5767 - accuracy: 0.6845 - val_loss: 0.5842 - val_accuracy: 0.6933\n",
            "Epoch 7/100\n",
            "98/98 [==============================] - 1s 14ms/step - loss: 0.5701 - accuracy: 0.6922 - val_loss: 0.6827 - val_accuracy: 0.6875\n",
            "Epoch 8/100\n",
            "98/98 [==============================] - 1s 14ms/step - loss: 0.5682 - accuracy: 0.6864 - val_loss: 0.5614 - val_accuracy: 0.7019\n",
            "Epoch 9/100\n",
            "98/98 [==============================] - 1s 14ms/step - loss: 0.5626 - accuracy: 0.6893 - val_loss: 0.5706 - val_accuracy: 0.6962\n",
            "Epoch 10/100\n",
            "98/98 [==============================] - 1s 14ms/step - loss: 0.5559 - accuracy: 0.6932 - val_loss: 0.5628 - val_accuracy: 0.7010\n",
            "Epoch 11/100\n",
            "98/98 [==============================] - 1s 14ms/step - loss: 0.5404 - accuracy: 0.7060 - val_loss: 0.5481 - val_accuracy: 0.6990\n",
            "Epoch 12/100\n",
            "98/98 [==============================] - 1s 14ms/step - loss: 0.5344 - accuracy: 0.7098 - val_loss: 0.5687 - val_accuracy: 0.7125\n",
            "Epoch 13/100\n",
            "98/98 [==============================] - 1s 14ms/step - loss: 0.5175 - accuracy: 0.7217 - val_loss: 0.5382 - val_accuracy: 0.7038\n",
            "Epoch 14/100\n",
            "98/98 [==============================] - 1s 14ms/step - loss: 0.4870 - accuracy: 0.7515 - val_loss: 0.5618 - val_accuracy: 0.7029\n",
            "Epoch 15/100\n",
            "98/98 [==============================] - 1s 14ms/step - loss: 0.4780 - accuracy: 0.7531 - val_loss: 0.5112 - val_accuracy: 0.7298\n",
            "Epoch 16/100\n",
            "98/98 [==============================] - 1s 14ms/step - loss: 0.4537 - accuracy: 0.7660 - val_loss: 0.5221 - val_accuracy: 0.7279\n",
            "Epoch 17/100\n",
            "98/98 [==============================] - 1s 14ms/step - loss: 0.4584 - accuracy: 0.7778 - val_loss: 0.5314 - val_accuracy: 0.7375\n",
            "Epoch 18/100\n",
            "98/98 [==============================] - 1s 14ms/step - loss: 0.4580 - accuracy: 0.7759 - val_loss: 0.5046 - val_accuracy: 0.7510\n",
            "Epoch 19/100\n",
            "98/98 [==============================] - 1s 14ms/step - loss: 0.4135 - accuracy: 0.7977 - val_loss: 0.4848 - val_accuracy: 0.7538\n",
            "Epoch 20/100\n",
            "98/98 [==============================] - 1s 14ms/step - loss: 0.3937 - accuracy: 0.8089 - val_loss: 0.5160 - val_accuracy: 0.7596\n",
            "Epoch 21/100\n",
            "98/98 [==============================] - 1s 14ms/step - loss: 0.4116 - accuracy: 0.8057 - val_loss: 0.4749 - val_accuracy: 0.7558\n",
            "Epoch 22/100\n",
            "98/98 [==============================] - 1s 14ms/step - loss: 0.3715 - accuracy: 0.8249 - val_loss: 0.4816 - val_accuracy: 0.7615\n",
            "Epoch 23/100\n",
            "98/98 [==============================] - 1s 14ms/step - loss: 0.3626 - accuracy: 0.8262 - val_loss: 0.4704 - val_accuracy: 0.7644\n",
            "Epoch 24/100\n",
            "98/98 [==============================] - 1s 14ms/step - loss: 0.3502 - accuracy: 0.8301 - val_loss: 0.4840 - val_accuracy: 0.7635\n",
            "Epoch 25/100\n",
            "98/98 [==============================] - 1s 14ms/step - loss: 0.3278 - accuracy: 0.8506 - val_loss: 0.5014 - val_accuracy: 0.7846\n",
            "Epoch 26/100\n",
            "98/98 [==============================] - 1s 14ms/step - loss: 0.3328 - accuracy: 0.8477 - val_loss: 0.5142 - val_accuracy: 0.7673\n",
            "Epoch 27/100\n",
            "98/98 [==============================] - 1s 14ms/step - loss: 0.3145 - accuracy: 0.8522 - val_loss: 0.4968 - val_accuracy: 0.7712\n",
            "Epoch 28/100\n",
            "98/98 [==============================] - 1s 14ms/step - loss: 0.3143 - accuracy: 0.8564 - val_loss: 0.4839 - val_accuracy: 0.7788\n",
            "Epoch 29/100\n",
            "98/98 [==============================] - 1s 14ms/step - loss: 0.2985 - accuracy: 0.8576 - val_loss: 0.5653 - val_accuracy: 0.7433\n",
            "Epoch 30/100\n",
            "98/98 [==============================] - 1s 14ms/step - loss: 0.2912 - accuracy: 0.8689 - val_loss: 0.4793 - val_accuracy: 0.7760\n",
            "Epoch 31/100\n",
            "98/98 [==============================] - 1s 15ms/step - loss: 0.2854 - accuracy: 0.8743 - val_loss: 0.4969 - val_accuracy: 0.7817\n",
            "Epoch 32/100\n",
            "98/98 [==============================] - 1s 14ms/step - loss: 0.2684 - accuracy: 0.8830 - val_loss: 0.5483 - val_accuracy: 0.7827\n",
            "Epoch 33/100\n",
            "98/98 [==============================] - 1s 14ms/step - loss: 0.2413 - accuracy: 0.9000 - val_loss: 0.5520 - val_accuracy: 0.7808\n",
            "Epoch 34/100\n",
            "98/98 [==============================] - 1s 14ms/step - loss: 0.2490 - accuracy: 0.8868 - val_loss: 0.5542 - val_accuracy: 0.7856\n",
            "Epoch 35/100\n",
            "98/98 [==============================] - 1s 14ms/step - loss: 0.2222 - accuracy: 0.9019 - val_loss: 0.6094 - val_accuracy: 0.7615\n",
            "Epoch 36/100\n",
            "98/98 [==============================] - 1s 14ms/step - loss: 0.2227 - accuracy: 0.9057 - val_loss: 0.5340 - val_accuracy: 0.7827\n",
            "Epoch 37/100\n",
            "98/98 [==============================] - 1s 14ms/step - loss: 0.1994 - accuracy: 0.9141 - val_loss: 0.6073 - val_accuracy: 0.7673\n",
            "Epoch 38/100\n",
            "98/98 [==============================] - 1s 14ms/step - loss: 0.2038 - accuracy: 0.9144 - val_loss: 0.5825 - val_accuracy: 0.7837\n",
            "Epoch 39/100\n",
            "98/98 [==============================] - 1s 14ms/step - loss: 0.1914 - accuracy: 0.9218 - val_loss: 0.5992 - val_accuracy: 0.7933\n",
            "Epoch 40/100\n",
            "98/98 [==============================] - 1s 14ms/step - loss: 0.1644 - accuracy: 0.9356 - val_loss: 0.6682 - val_accuracy: 0.7933\n",
            "Epoch 41/100\n",
            "98/98 [==============================] - 1s 14ms/step - loss: 0.1762 - accuracy: 0.9266 - val_loss: 0.6231 - val_accuracy: 0.7865\n",
            "Epoch 42/100\n",
            "98/98 [==============================] - 1s 14ms/step - loss: 0.1455 - accuracy: 0.9365 - val_loss: 0.7543 - val_accuracy: 0.7817\n",
            "Epoch 43/100\n",
            "98/98 [==============================] - 1s 14ms/step - loss: 0.1379 - accuracy: 0.9439 - val_loss: 0.7396 - val_accuracy: 0.7760\n",
            "Epoch 44/100\n",
            "98/98 [==============================] - 1s 14ms/step - loss: 0.1521 - accuracy: 0.9410 - val_loss: 0.6532 - val_accuracy: 0.7846\n",
            "Epoch 45/100\n",
            "98/98 [==============================] - 1s 14ms/step - loss: 0.1271 - accuracy: 0.9477 - val_loss: 0.7738 - val_accuracy: 0.7510\n",
            "Epoch 46/100\n",
            "98/98 [==============================] - 1s 14ms/step - loss: 0.1603 - accuracy: 0.9404 - val_loss: 0.5854 - val_accuracy: 0.7788\n",
            "Epoch 47/100\n",
            "98/98 [==============================] - 1s 14ms/step - loss: 0.1366 - accuracy: 0.9484 - val_loss: 0.8102 - val_accuracy: 0.7971\n",
            "Epoch 48/100\n",
            "98/98 [==============================] - 1s 14ms/step - loss: 0.1181 - accuracy: 0.9551 - val_loss: 0.7759 - val_accuracy: 0.7971\n",
            "Epoch 49/100\n",
            "98/98 [==============================] - 1s 14ms/step - loss: 0.0806 - accuracy: 0.9676 - val_loss: 0.8432 - val_accuracy: 0.7740\n",
            "Epoch 50/100\n",
            "98/98 [==============================] - 1s 14ms/step - loss: 0.0692 - accuracy: 0.9766 - val_loss: 0.8787 - val_accuracy: 0.7894\n",
            "Epoch 51/100\n",
            "98/98 [==============================] - 1s 14ms/step - loss: 0.0552 - accuracy: 0.9827 - val_loss: 1.0501 - val_accuracy: 0.7904\n",
            "Epoch 52/100\n",
            "98/98 [==============================] - 1s 14ms/step - loss: 0.0617 - accuracy: 0.9785 - val_loss: 0.9902 - val_accuracy: 0.7750\n",
            "Epoch 53/100\n",
            "98/98 [==============================] - 1s 14ms/step - loss: 0.0764 - accuracy: 0.9718 - val_loss: 1.0964 - val_accuracy: 0.7740\n",
            "Epoch 54/100\n",
            "98/98 [==============================] - 1s 14ms/step - loss: 0.0706 - accuracy: 0.9744 - val_loss: 1.0003 - val_accuracy: 0.7587\n",
            "Epoch 55/100\n",
            "98/98 [==============================] - 1s 14ms/step - loss: 0.0657 - accuracy: 0.9756 - val_loss: 1.0304 - val_accuracy: 0.7702\n",
            "Epoch 56/100\n",
            "98/98 [==============================] - 2s 16ms/step - loss: 0.0704 - accuracy: 0.9721 - val_loss: 0.9468 - val_accuracy: 0.7808\n",
            "Epoch 57/100\n",
            "98/98 [==============================] - 1s 14ms/step - loss: 0.0462 - accuracy: 0.9859 - val_loss: 1.0917 - val_accuracy: 0.7663\n",
            "Epoch 58/100\n",
            "98/98 [==============================] - 1s 14ms/step - loss: 0.0789 - accuracy: 0.9734 - val_loss: 1.1264 - val_accuracy: 0.7519\n",
            "Epoch 59/100\n",
            "98/98 [==============================] - 1s 14ms/step - loss: 0.0697 - accuracy: 0.9782 - val_loss: 1.0308 - val_accuracy: 0.7865\n",
            "Epoch 60/100\n",
            "98/98 [==============================] - 1s 15ms/step - loss: 0.0399 - accuracy: 0.9872 - val_loss: 1.0351 - val_accuracy: 0.7846\n",
            "Epoch 61/100\n",
            "98/98 [==============================] - 1s 14ms/step - loss: 0.0573 - accuracy: 0.9776 - val_loss: 1.1501 - val_accuracy: 0.7606\n",
            "Epoch 62/100\n",
            "98/98 [==============================] - 1s 14ms/step - loss: 0.0376 - accuracy: 0.9853 - val_loss: 1.2418 - val_accuracy: 0.7548\n",
            "Epoch 63/100\n",
            "98/98 [==============================] - 1s 14ms/step - loss: 0.0372 - accuracy: 0.9881 - val_loss: 1.1161 - val_accuracy: 0.7817\n"
          ]
        }
      ],
      "source": [
        "lstm_history = model_lstm.fit(X_train, Y_train,\n",
        "                            validation_data=(X_val, Y_val),\n",
        "                            batch_size=32,\n",
        "                            epochs=100,\n",
        "                            verbose=1,\n",
        "                            callbacks=[es_lstm])\n"
      ]
    },
    {
      "cell_type": "markdown",
      "metadata": {
        "id": "0omw2XzSHwOo"
      },
      "source": [
        "## Evaluation on test data\n",
        "Evaluate the model on the test data in terms of loss and accuracy."
      ]
    },
    {
      "cell_type": "code",
      "execution_count": 13,
      "metadata": {
        "id": "4bF3dQA1Hv_R"
      },
      "outputs": [
        {
          "name": "stdout",
          "output_type": "stream",
          "text": [
            "33/33 [==============================] - 0s 919us/step - loss: 0.3497 - accuracy: 0.8462\n",
            "CNN Test Loss: 0.3497, CNN Test Accuracy: 0.8462\n",
            "33/33 [==============================] - 0s 4ms/step - loss: 0.5193 - accuracy: 0.7346\n",
            "LSTM Test Loss: 0.5193, LSTM Test Accuracy: 0.7346\n"
          ]
        }
      ],
      "source": [
        "# For 1D CNN model\n",
        "loss, accuracy = model_cnn.evaluate(X_test, Y_test)\n",
        "print(f'CNN Test Loss: {loss:.4f}, CNN Test Accuracy: {accuracy:.4f}')\n",
        "\n",
        "# For LSTM model\n",
        "loss, accuracy = model_lstm.evaluate(X_test, Y_test)\n",
        "print(f'LSTM Test Loss: {loss:.4f}, LSTM Test Accuracy: {accuracy:.4f}')"
      ]
    },
    {
      "cell_type": "markdown",
      "metadata": {
        "id": "4Y73Q-h5Hz1r"
      },
      "source": [
        "## Confusion matrix\n",
        "Calculate and display the confusion matrix."
      ]
    },
    {
      "cell_type": "code",
      "execution_count": 14,
      "metadata": {
        "id": "cW8zZi1uJm2B"
      },
      "outputs": [
        {
          "name": "stdout",
          "output_type": "stream",
          "text": [
            "33/33 [==============================] - 0s 838us/step\n"
          ]
        },
        {
          "data": {
            "image/png": "[encoded data removed]",
            "text/plain": [
              "<Figure size 640x480 with 2 Axes>"
            ]
          },
          "metadata": {},
          "output_type": "display_data"
        },
        {
          "name": "stdout",
          "output_type": "stream",
          "text": [
            "33/33 [==============================] - 0s 4ms/step\n"
          ]
        },
        {
          "data": {
            "image/png": "[encoded data removed]",
            "text/plain": [
              "<Figure size 640x480 with 2 Axes>"
            ]
          },
          "metadata": {},
          "output_type": "display_data"
        }
      ],
      "source": [
        "# Define the true labels and predicted labels\n",
        "true_labels = Y_test\n",
        "\n",
        "# For 1D CNN model\n",
        "\n",
        "# Predict the labels\n",
        "predicted_probabilities = model_cnn.predict(X_test)\n",
        "predicted_labels = [1 if prob > 0.5 else 0 for prob in predicted_probabilities]\n",
        "\n",
        "# Calculate the confusion matrix\n",
        "cm = confusion_matrix(true_labels, predicted_labels)\n",
        "\n",
        "# Plot the confusion matrix\n",
        "sns.heatmap(cm, annot=True, fmt='d', cmap='Blues')\n",
        "plt.xlabel('Predicted Labels')\n",
        "plt.ylabel('True Labels')\n",
        "plt.title('CNN Confusion Matrix')\n",
        "plt.show()\n",
        "\n",
        "predicted_probabilities = model_lstm.predict(X_test)\n",
        "predicted_labels = [1 if prob > 0.5 else 0 for prob in predicted_probabilities]\n",
        "\n",
        "# Calculate the confusion matrix\n",
        "cm = confusion_matrix(true_labels, predicted_labels)\n",
        "\n",
        "# Plot the confusion matrix\n",
        "sns.heatmap(cm, annot=True, fmt='d', cmap='Blues')\n",
        "plt.xlabel('Predicted Labels')\n",
        "plt.ylabel('True Labels')\n",
        "plt.title('LSTM Confusion Matrix')\n",
        "plt.show()\n"
      ]
    },
    {
      "cell_type": "markdown",
      "metadata": {},
      "source": [
        "# Brief Analysis\n",
        "The CNN performed significantly better than the LSTM, with a test accuracy of 84.62% compared to 73.46%. Both models performed strongly on Moby Dick, with the CNN performing at an accuracy of approx. 86.1%, while the LSTm was close behind at 85.7%. However, the LSTM performed much worse on Pride and Prejudice, predicitng correctly approx. 60.1% of the time, while the CNN predicted corectly a much more reasonable 82.5% of the time. This is an interesting result, and suggests that Moby Dick has some distinctive characteristics that both models were able to identify, however, Pride and Prejudice is perhaps more varied in the structure of its prose, or has a writing style that is more difficult to identify. Perhpas the LSTM needed more Pride and Prejudice data, wheras the CNN could operate despite the difference in character count.\n",
        "\n",
        "Some possible ways to improve model performance would be to refine model size and weights, include more input data, include an equal amount of each text, and more rigourously pre-process the text (remove underscores, tinker with removing some stopwords/articles)"
      ]
    }
  ],
  "metadata": {
    "colab": {
      "provenance": []
    },
    "kernelspec": {
      "display_name": "Python 3",
      "language": "python",
      "name": "python3"
    },
    "language_info": {
      "codemirror_mode": {
        "name": "ipython",
        "version": 3
      },
      "file_extension": ".py",
      "mimetype": "text/x-python",
      "name": "python",
      "nbconvert_exporter": "python",
      "pygments_lexer": "ipython3",
      "version": "3.11.4"
    }
  },
  "nbformat": 4,
  "nbformat_minor": 0
}
