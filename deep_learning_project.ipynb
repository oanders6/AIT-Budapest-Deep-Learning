{
  "nbformat": 4,
  "nbformat_minor": 0,
  "metadata": {
    "colab": {
      "provenance": [],
      "authorship_tag": "ABX9TyNuQ04uHk88Zep88wngFp5z",
      "include_colab_link": true
    },
    "kernelspec": {
      "name": "python3",
      "display_name": "Python 3"
    },
    "language_info": {
      "name": "python"
    }
  },
  "cells": [
    {
      "cell_type": "markdown",
      "metadata": {
        "id": "view-in-github",
        "colab_type": "text"
      },
      "source": [
        "<a href=\"https://colab.research.google.com/github/oanders6/AIT-Budapest-Deep-Learning/blob/main/deep_learning_project.ipynb\" target=\"_parent\"><img src=\"https://colab.research.google.com/assets/colab-badge.svg\" alt=\"Open In Colab\"/></a>"
      ]
    },
    {
      "cell_type": "code",
      "execution_count": 1,
      "metadata": {
        "id": "Gsxv3PWb1-at"
      },
      "outputs": [],
      "source": [
        "import numpy as np"
      ]
    },
    {
      "cell_type": "code",
      "source": [
        "! pip install kaggle"
      ],
      "metadata": {
        "colab": {
          "base_uri": "https://localhost:8080/"
        },
        "id": "UEtQf_uI2ujT",
        "outputId": "21d9442f-241c-4eb6-8d10-8e6be5935867"
      },
      "execution_count": 2,
      "outputs": [
        {
          "output_type": "stream",
          "name": "stdout",
          "text": [
            "Requirement already satisfied: kaggle in /usr/local/lib/python3.10/dist-packages (1.5.16)\n",
            "Requirement already satisfied: six>=1.10 in /usr/local/lib/python3.10/dist-packages (from kaggle) (1.16.0)\n",
            "Requirement already satisfied: certifi in /usr/local/lib/python3.10/dist-packages (from kaggle) (2024.2.2)\n",
            "Requirement already satisfied: python-dateutil in /usr/local/lib/python3.10/dist-packages (from kaggle) (2.8.2)\n",
            "Requirement already satisfied: requests in /usr/local/lib/python3.10/dist-packages (from kaggle) (2.31.0)\n",
            "Requirement already satisfied: tqdm in /usr/local/lib/python3.10/dist-packages (from kaggle) (4.66.2)\n",
            "Requirement already satisfied: python-slugify in /usr/local/lib/python3.10/dist-packages (from kaggle) (8.0.4)\n",
            "Requirement already satisfied: urllib3 in /usr/local/lib/python3.10/dist-packages (from kaggle) (2.0.7)\n",
            "Requirement already satisfied: bleach in /usr/local/lib/python3.10/dist-packages (from kaggle) (6.1.0)\n",
            "Requirement already satisfied: webencodings in /usr/local/lib/python3.10/dist-packages (from bleach->kaggle) (0.5.1)\n",
            "Requirement already satisfied: text-unidecode>=1.3 in /usr/local/lib/python3.10/dist-packages (from python-slugify->kaggle) (1.3)\n",
            "Requirement already satisfied: charset-normalizer<4,>=2 in /usr/local/lib/python3.10/dist-packages (from requests->kaggle) (3.3.2)\n",
            "Requirement already satisfied: idna<4,>=2.5 in /usr/local/lib/python3.10/dist-packages (from requests->kaggle) (3.6)\n"
          ]
        }
      ]
    },
    {
      "cell_type": "code",
      "source": [
        "from google.colab import drive\n",
        "drive.mount('/content/drive')"
      ],
      "metadata": {
        "colab": {
          "base_uri": "https://localhost:8080/"
        },
        "id": "zCr1w66b3LVW",
        "outputId": "81300b62-6cfc-4f96-a312-672869c50808"
      },
      "execution_count": 4,
      "outputs": [
        {
          "output_type": "stream",
          "name": "stdout",
          "text": [
            "Mounted at /content/drive\n"
          ]
        }
      ]
    },
    {
      "cell_type": "code",
      "source": [
        "! mkdir ~/.kaggle"
      ],
      "metadata": {
        "id": "hQ8BCgi-4n25"
      },
      "execution_count": 9,
      "outputs": []
    },
    {
      "cell_type": "code",
      "source": [
        "!cp /content/drive/MyDrive/kaggle.json ~/.kaggle/kaggle.json"
      ],
      "metadata": {
        "id": "SFPQPph33YB8"
      },
      "execution_count": 10,
      "outputs": []
    },
    {
      "cell_type": "code",
      "source": [
        "!chmod 600 ~/.kaggle/kaggle.json"
      ],
      "metadata": {
        "id": "8Odfb4p44D5f"
      },
      "execution_count": 11,
      "outputs": []
    },
    {
      "cell_type": "code",
      "source": [
        "!kaggle datasets download -d juicobowley/drake-lyrics"
      ],
      "metadata": {
        "colab": {
          "base_uri": "https://localhost:8080/"
        },
        "id": "d-l6CU6J4If9",
        "outputId": "a9141baa-6a78-4ffa-e4da-07f1c5d5db04"
      },
      "execution_count": 12,
      "outputs": [
        {
          "output_type": "stream",
          "name": "stdout",
          "text": [
            "Downloading drake-lyrics.zip to /content\n",
            "\r  0% 0.00/764k [00:00<?, ?B/s]\n",
            "\r100% 764k/764k [00:00<00:00, 111MB/s]\n"
          ]
        }
      ]
    },
    {
      "cell_type": "code",
      "source": [
        "! unzip drake-lyrics.zip"
      ],
      "metadata": {
        "colab": {
          "base_uri": "https://localhost:8080/"
        },
        "id": "tx4zykYj4uvP",
        "outputId": "60669f4b-c0fa-4ae6-f742-80e354e7ff0a"
      },
      "execution_count": 13,
      "outputs": [
        {
          "output_type": "stream",
          "name": "stdout",
          "text": [
            "Archive:  drake-lyrics.zip\n",
            "  inflating: drake_data.csv          \n",
            "  inflating: drake_data.json         \n",
            "  inflating: drake_lyrics.txt        \n"
          ]
        }
      ]
    },
    {
      "cell_type": "markdown",
      "source": [
        "# Importing Pandas Dataset"
      ],
      "metadata": {
        "id": "uxIwzhYa66aF"
      }
    },
    {
      "cell_type": "code",
      "source": [
        "import pandas as pd"
      ],
      "metadata": {
        "id": "pSOZU0kM5MF_"
      },
      "execution_count": 15,
      "outputs": []
    },
    {
      "cell_type": "code",
      "source": [
        "dataset = pd.read_csv('/content/drake_data.csv')"
      ],
      "metadata": {
        "id": "SQKHH-Tq6qgU"
      },
      "execution_count": 16,
      "outputs": []
    },
    {
      "cell_type": "code",
      "source": [
        "dataset.head()"
      ],
      "metadata": {
        "colab": {
          "base_uri": "https://localhost:8080/",
          "height": 467
        },
        "id": "-pSni5rY6y3e",
        "outputId": "680b4493-59df-4e68-a934-67c1d90439f1"
      },
      "execution_count": 17,
      "outputs": [
        {
          "output_type": "execute_result",
          "data": {
            "text/plain": [
              "                 album                           lyrics_title  \\\n",
              "0  Certified Lover Boy            Certified Lover Boy* Lyrics   \n",
              "1  Certified Lover Boy  Like I’m Supposed To/Do Things Lyrics   \n",
              "2  Certified Lover Boy                      Not Around Lyrics   \n",
              "3  Certified Lover Boy    In the Cut (Ft. Roddy Ricch) Lyrics   \n",
              "4  Certified Lover Boy  Zodiac Sign (Ft. Jessie Reyez) Lyrics   \n",
              "\n",
              "                                          lyrics_url  \\\n",
              "0  https://genius.com/Drake-certified-lover-boy-l...   \n",
              "1  https://genius.com/Drake-like-im-supposed-to-d...   \n",
              "2         https://genius.com/Drake-not-around-lyrics   \n",
              "3         https://genius.com/Drake-in-the-cut-lyrics   \n",
              "4        https://genius.com/Drake-zodiac-sign-lyrics   \n",
              "\n",
              "                                              lyrics track_views  \n",
              "0  [Verse]\\nPut my feelings on ice\\nAlways been a...        8.7K  \n",
              "1  [Verse]\\nHands are tied\\nSomeone's in my ear f...       38.8K  \n",
              "2  [Intro]\\nYeah, we back\\nWassup ladies?\\nSwisha...      129.8K  \n",
              "3  [Intro: Drake]\\nAyy, yeah\\nPipe this shit up a...       72.1K  \n",
              "4  [Verse 1: Drake]\\nYou ask how many girls I bee...       54.8K  "
            ],
            "text/html": [
              "\n",
              "  <div id=\"df-90a89445-4296-4a9c-87c8-77b03a7a16bf\" class=\"colab-df-container\">\n",
              "    <div>\n",
              "<style scoped>\n",
              "    .dataframe tbody tr th:only-of-type {\n",
              "        vertical-align: middle;\n",
              "    }\n",
              "\n",
              "    .dataframe tbody tr th {\n",
              "        vertical-align: top;\n",
              "    }\n",
              "\n",
              "    .dataframe thead th {\n",
              "        text-align: right;\n",
              "    }\n",
              "</style>\n",
              "<table border=\"1\" class=\"dataframe\">\n",
              "  <thead>\n",
              "    <tr style=\"text-align: right;\">\n",
              "      <th></th>\n",
              "      <th>album</th>\n",
              "      <th>lyrics_title</th>\n",
              "      <th>lyrics_url</th>\n",
              "      <th>lyrics</th>\n",
              "      <th>track_views</th>\n",
              "    </tr>\n",
              "  </thead>\n",
              "  <tbody>\n",
              "    <tr>\n",
              "      <th>0</th>\n",
              "      <td>Certified Lover Boy</td>\n",
              "      <td>Certified Lover Boy* Lyrics</td>\n",
              "      <td>https://genius.com/Drake-certified-lover-boy-l...</td>\n",
              "      <td>[Verse]\\nPut my feelings on ice\\nAlways been a...</td>\n",
              "      <td>8.7K</td>\n",
              "    </tr>\n",
              "    <tr>\n",
              "      <th>1</th>\n",
              "      <td>Certified Lover Boy</td>\n",
              "      <td>Like I’m Supposed To/Do Things Lyrics</td>\n",
              "      <td>https://genius.com/Drake-like-im-supposed-to-d...</td>\n",
              "      <td>[Verse]\\nHands are tied\\nSomeone's in my ear f...</td>\n",
              "      <td>38.8K</td>\n",
              "    </tr>\n",
              "    <tr>\n",
              "      <th>2</th>\n",
              "      <td>Certified Lover Boy</td>\n",
              "      <td>Not Around Lyrics</td>\n",
              "      <td>https://genius.com/Drake-not-around-lyrics</td>\n",
              "      <td>[Intro]\\nYeah, we back\\nWassup ladies?\\nSwisha...</td>\n",
              "      <td>129.8K</td>\n",
              "    </tr>\n",
              "    <tr>\n",
              "      <th>3</th>\n",
              "      <td>Certified Lover Boy</td>\n",
              "      <td>In the Cut (Ft. Roddy Ricch) Lyrics</td>\n",
              "      <td>https://genius.com/Drake-in-the-cut-lyrics</td>\n",
              "      <td>[Intro: Drake]\\nAyy, yeah\\nPipe this shit up a...</td>\n",
              "      <td>72.1K</td>\n",
              "    </tr>\n",
              "    <tr>\n",
              "      <th>4</th>\n",
              "      <td>Certified Lover Boy</td>\n",
              "      <td>Zodiac Sign (Ft. Jessie Reyez) Lyrics</td>\n",
              "      <td>https://genius.com/Drake-zodiac-sign-lyrics</td>\n",
              "      <td>[Verse 1: Drake]\\nYou ask how many girls I bee...</td>\n",
              "      <td>54.8K</td>\n",
              "    </tr>\n",
              "  </tbody>\n",
              "</table>\n",
              "</div>\n",
              "    <div class=\"colab-df-buttons\">\n",
              "\n",
              "  <div class=\"colab-df-container\">\n",
              "    <button class=\"colab-df-convert\" onclick=\"convertToInteractive('df-90a89445-4296-4a9c-87c8-77b03a7a16bf')\"\n",
              "            title=\"Convert this dataframe to an interactive table.\"\n",
              "            style=\"display:none;\">\n",
              "\n",
              "  <svg xmlns=\"http://www.w3.org/2000/svg\" height=\"24px\" viewBox=\"0 -960 960 960\">\n",
              "    <path d=\"M120-120v-720h720v720H120Zm60-500h600v-160H180v160Zm220 220h160v-160H400v160Zm0 220h160v-160H400v160ZM180-400h160v-160H180v160Zm440 0h160v-160H620v160ZM180-180h160v-160H180v160Zm440 0h160v-160H620v160Z\"/>\n",
              "  </svg>\n",
              "    </button>\n",
              "\n",
              "  <style>\n",
              "    .colab-df-container {\n",
              "      display:flex;\n",
              "      gap: 12px;\n",
              "    }\n",
              "\n",
              "    .colab-df-convert {\n",
              "      background-color: #E8F0FE;\n",
              "      border: none;\n",
              "      border-radius: 50%;\n",
              "      cursor: pointer;\n",
              "      display: none;\n",
              "      fill: #1967D2;\n",
              "      height: 32px;\n",
              "      padding: 0 0 0 0;\n",
              "      width: 32px;\n",
              "    }\n",
              "\n",
              "    .colab-df-convert:hover {\n",
              "      background-color: #E2EBFA;\n",
              "      box-shadow: 0px 1px 2px rgba(60, 64, 67, 0.3), 0px 1px 3px 1px rgba(60, 64, 67, 0.15);\n",
              "      fill: #174EA6;\n",
              "    }\n",
              "\n",
              "    .colab-df-buttons div {\n",
              "      margin-bottom: 4px;\n",
              "    }\n",
              "\n",
              "    [theme=dark] .colab-df-convert {\n",
              "      background-color: #3B4455;\n",
              "      fill: #D2E3FC;\n",
              "    }\n",
              "\n",
              "    [theme=dark] .colab-df-convert:hover {\n",
              "      background-color: #434B5C;\n",
              "      box-shadow: 0px 1px 3px 1px rgba(0, 0, 0, 0.15);\n",
              "      filter: drop-shadow(0px 1px 2px rgba(0, 0, 0, 0.3));\n",
              "      fill: #FFFFFF;\n",
              "    }\n",
              "  </style>\n",
              "\n",
              "    <script>\n",
              "      const buttonEl =\n",
              "        document.querySelector('#df-90a89445-4296-4a9c-87c8-77b03a7a16bf button.colab-df-convert');\n",
              "      buttonEl.style.display =\n",
              "        google.colab.kernel.accessAllowed ? 'block' : 'none';\n",
              "\n",
              "      async function convertToInteractive(key) {\n",
              "        const element = document.querySelector('#df-90a89445-4296-4a9c-87c8-77b03a7a16bf');\n",
              "        const dataTable =\n",
              "          await google.colab.kernel.invokeFunction('convertToInteractive',\n",
              "                                                    [key], {});\n",
              "        if (!dataTable) return;\n",
              "\n",
              "        const docLinkHtml = 'Like what you see? Visit the ' +\n",
              "          '<a target=\"_blank\" href=https://colab.research.google.com/notebooks/data_table.ipynb>data table notebook</a>'\n",
              "          + ' to learn more about interactive tables.';\n",
              "        element.innerHTML = '';\n",
              "        dataTable['output_type'] = 'display_data';\n",
              "        await google.colab.output.renderOutput(dataTable, element);\n",
              "        const docLink = document.createElement('div');\n",
              "        docLink.innerHTML = docLinkHtml;\n",
              "        element.appendChild(docLink);\n",
              "      }\n",
              "    </script>\n",
              "  </div>\n",
              "\n",
              "\n",
              "<div id=\"df-24271354-3b76-4764-a0ed-691278e84df9\">\n",
              "  <button class=\"colab-df-quickchart\" onclick=\"quickchart('df-24271354-3b76-4764-a0ed-691278e84df9')\"\n",
              "            title=\"Suggest charts\"\n",
              "            style=\"display:none;\">\n",
              "\n",
              "<svg xmlns=\"http://www.w3.org/2000/svg\" height=\"24px\"viewBox=\"0 0 24 24\"\n",
              "     width=\"24px\">\n",
              "    <g>\n",
              "        <path d=\"M19 3H5c-1.1 0-2 .9-2 2v14c0 1.1.9 2 2 2h14c1.1 0 2-.9 2-2V5c0-1.1-.9-2-2-2zM9 17H7v-7h2v7zm4 0h-2V7h2v10zm4 0h-2v-4h2v4z\"/>\n",
              "    </g>\n",
              "</svg>\n",
              "  </button>\n",
              "\n",
              "<style>\n",
              "  .colab-df-quickchart {\n",
              "      --bg-color: #E8F0FE;\n",
              "      --fill-color: #1967D2;\n",
              "      --hover-bg-color: #E2EBFA;\n",
              "      --hover-fill-color: #174EA6;\n",
              "      --disabled-fill-color: #AAA;\n",
              "      --disabled-bg-color: #DDD;\n",
              "  }\n",
              "\n",
              "  [theme=dark] .colab-df-quickchart {\n",
              "      --bg-color: #3B4455;\n",
              "      --fill-color: #D2E3FC;\n",
              "      --hover-bg-color: #434B5C;\n",
              "      --hover-fill-color: #FFFFFF;\n",
              "      --disabled-bg-color: #3B4455;\n",
              "      --disabled-fill-color: #666;\n",
              "  }\n",
              "\n",
              "  .colab-df-quickchart {\n",
              "    background-color: var(--bg-color);\n",
              "    border: none;\n",
              "    border-radius: 50%;\n",
              "    cursor: pointer;\n",
              "    display: none;\n",
              "    fill: var(--fill-color);\n",
              "    height: 32px;\n",
              "    padding: 0;\n",
              "    width: 32px;\n",
              "  }\n",
              "\n",
              "  .colab-df-quickchart:hover {\n",
              "    background-color: var(--hover-bg-color);\n",
              "    box-shadow: 0 1px 2px rgba(60, 64, 67, 0.3), 0 1px 3px 1px rgba(60, 64, 67, 0.15);\n",
              "    fill: var(--button-hover-fill-color);\n",
              "  }\n",
              "\n",
              "  .colab-df-quickchart-complete:disabled,\n",
              "  .colab-df-quickchart-complete:disabled:hover {\n",
              "    background-color: var(--disabled-bg-color);\n",
              "    fill: var(--disabled-fill-color);\n",
              "    box-shadow: none;\n",
              "  }\n",
              "\n",
              "  .colab-df-spinner {\n",
              "    border: 2px solid var(--fill-color);\n",
              "    border-color: transparent;\n",
              "    border-bottom-color: var(--fill-color);\n",
              "    animation:\n",
              "      spin 1s steps(1) infinite;\n",
              "  }\n",
              "\n",
              "  @keyframes spin {\n",
              "    0% {\n",
              "      border-color: transparent;\n",
              "      border-bottom-color: var(--fill-color);\n",
              "      border-left-color: var(--fill-color);\n",
              "    }\n",
              "    20% {\n",
              "      border-color: transparent;\n",
              "      border-left-color: var(--fill-color);\n",
              "      border-top-color: var(--fill-color);\n",
              "    }\n",
              "    30% {\n",
              "      border-color: transparent;\n",
              "      border-left-color: var(--fill-color);\n",
              "      border-top-color: var(--fill-color);\n",
              "      border-right-color: var(--fill-color);\n",
              "    }\n",
              "    40% {\n",
              "      border-color: transparent;\n",
              "      border-right-color: var(--fill-color);\n",
              "      border-top-color: var(--fill-color);\n",
              "    }\n",
              "    60% {\n",
              "      border-color: transparent;\n",
              "      border-right-color: var(--fill-color);\n",
              "    }\n",
              "    80% {\n",
              "      border-color: transparent;\n",
              "      border-right-color: var(--fill-color);\n",
              "      border-bottom-color: var(--fill-color);\n",
              "    }\n",
              "    90% {\n",
              "      border-color: transparent;\n",
              "      border-bottom-color: var(--fill-color);\n",
              "    }\n",
              "  }\n",
              "</style>\n",
              "\n",
              "  <script>\n",
              "    async function quickchart(key) {\n",
              "      const quickchartButtonEl =\n",
              "        document.querySelector('#' + key + ' button');\n",
              "      quickchartButtonEl.disabled = true;  // To prevent multiple clicks.\n",
              "      quickchartButtonEl.classList.add('colab-df-spinner');\n",
              "      try {\n",
              "        const charts = await google.colab.kernel.invokeFunction(\n",
              "            'suggestCharts', [key], {});\n",
              "      } catch (error) {\n",
              "        console.error('Error during call to suggestCharts:', error);\n",
              "      }\n",
              "      quickchartButtonEl.classList.remove('colab-df-spinner');\n",
              "      quickchartButtonEl.classList.add('colab-df-quickchart-complete');\n",
              "    }\n",
              "    (() => {\n",
              "      let quickchartButtonEl =\n",
              "        document.querySelector('#df-24271354-3b76-4764-a0ed-691278e84df9 button');\n",
              "      quickchartButtonEl.style.display =\n",
              "        google.colab.kernel.accessAllowed ? 'block' : 'none';\n",
              "    })();\n",
              "  </script>\n",
              "</div>\n",
              "    </div>\n",
              "  </div>\n"
            ],
            "application/vnd.google.colaboratory.intrinsic+json": {
              "type": "dataframe",
              "variable_name": "dataset",
              "summary": "{\n  \"name\": \"dataset\",\n  \"rows\": 290,\n  \"fields\": [\n    {\n      \"column\": \"album\",\n      \"properties\": {\n        \"dtype\": \"category\",\n        \"num_unique_values\": 18,\n        \"samples\": [\n          \"Certified Lover Boy\",\n          \"Dark Lane Demo Tapes\",\n          \"If You\\u2019re Reading This It\\u2019s Too Late\"\n        ],\n        \"semantic_type\": \"\",\n        \"description\": \"\"\n      }\n    },\n    {\n      \"column\": \"lyrics_title\",\n      \"properties\": {\n        \"dtype\": \"string\",\n        \"num_unique_values\": 278,\n        \"samples\": [\n          \"5 AM in Toronto Lyrics\",\n          \"Jungle Lyrics\",\n          \"Brand New Lyrics\"\n        ],\n        \"semantic_type\": \"\",\n        \"description\": \"\"\n      }\n    },\n    {\n      \"column\": \"lyrics_url\",\n      \"properties\": {\n        \"dtype\": \"string\",\n        \"num_unique_values\": 278,\n        \"samples\": [\n          \"https://genius.com/Drake-5-am-in-toronto-lyrics\",\n          \"https://genius.com/Drake-jungle-lyrics\",\n          \"https://genius.com/Drake-brand-new-lyrics\"\n        ],\n        \"semantic_type\": \"\",\n        \"description\": \"\"\n      }\n    },\n    {\n      \"column\": \"lyrics\",\n      \"properties\": {\n        \"dtype\": \"string\",\n        \"num_unique_values\": 276,\n        \"samples\": [\n          \"[Intro]\\nYeah\\nThis on some old Tommy Campos Dice Raw shit, you know?\\nFor my niggas, though\\n\\n[Verse]\\nUh, you underestimated greatly\\nMost number ones ever, how long did it really take me?\\nThe part I love most is they need me more than they hate me\\nSo they never take shots, I got everybody on safety\\nI could load every gun with bullets that fire backwards\\nProbably wouldn't lose a single rapper\\nNiggas make threats, can't hear 'em over the laughter\\nYeah, that's 'cause I'm headed to the bank, nigga\\nSinatra lifestyle, I'm just bein' frank with ya\\nI mean, where you think she at when she ain't with ya?\\nWildin', doin' shit that's way out of your budget\\nOwl sweaters inside her luggage, you gotta love it\\nDamn, this shit could go on a tape\\nBitches lovin' my drive, I never give it a break\\nGive these niggas the look, the verse, and even the hook\\nThat's why every song sound like Drake featurin' Drake\\nStr8, Y pree? Why is it always me?\\nGot us watchin' our words like it's wiretaps on the team\\n'Cause I show love, never get the same outta niggas\\nGuess it's funny how money can make change outta niggas\\nFor real, some nobody started feelin' himself\\nA couple somebodies started killin' themself\\nA couple albums dropped, those are still on the shelf\\nI bet them shits would have popped if I was willin' to help\\nI got a gold trophy from the committee for validation\\nBad press during the summer over allegations\\nI ain't lyin', my nigga, my time is money\\nThat's why I ain't got time for a nigga whose time is coming\\nA lot of niggas PR stuntin' like that's the movement\\nAnd I'm the only nigga still known for the music, I swear\\nFuck them niggas this year, I made Forbes list, nigga\\nFuck your list, everything's lookin' gorgeous\\nWithout me, rap is just a bunch of orphans\\nBut if I stay, then this shit is a bunch of corpses\\nAnd me and my dread nigga from New Orleans\\nStashin' money like hoarders off multi-platinum recordings\\nEatin' like I\\u2019m seated at Swish, Sotto, and Joso's\\nNothing Was The Same, this shit for Ezee and Coco\\nThis shit for Karim, this shit for Jaevon\\nThis shit for Julius, Milly Mill, boy, we do this shit for real\\nAll them boys in my will, all them boys is my Wills\\nAnything happen to pop, then I got you like Uncle Phil\\nWeezy been on that edge, you niggas just need to chill\\nIf anything happen to Papi, might pop a nigga for real\\nComin' live from the screwface, livin' out a suitcase\\nBut I'm feelin' good, Johnny got me pushin' two plates\\nMy weight up, I refused to wait up, I started a new race\\nIt's funny when you think a nigga blew up after Lupe\\nNiggas treat me like I've been here for 10\\nSome niggas been here for a couple, never been here again\\nI'm on my King James shit, I'm tryna win here again\\nA young nigga tryna win here again, man, what's up?\\n\\n[Outro]\\nAyy, yeah, a young nigga tryin' to win here again\\nIf I like her, I just fly her to the city I'm in\\nI got her drinkin' with your boy\\nI got her fucked up, shorty, aww yeah\",\n          \"[Verse 1: Drake]\\nI got some shit for you to come and get\\nI'm at the St. Regis up on Briar Oaks\\nHit me when you done your shift\\nWooh, I see you doin' well, baby\\nOh, you pullin' shit together, I can tell, baby\\nIs you single or what? I need a girl from the country\\nI need a girl from Kentucky, I need a shawty from Houston\\nI need a girl who gon' love me\\nI need a girl who gon' trust me, someone to fuck me\\nSomeone to make me feel lucky\\nSomeone that's so proud to be with me\\nShe walk right up to her ex, look him dead in the face\\nAnd say, \\\"You ain't got the juice like that\\nYou ain't got the juice like that\\\"\\nThat's cold, ice cold, girl you ain't have to do him like that\\nWhy you had to do him like that?\\nGotta come through quick, quick\\nOh you at the club cashin' out with Eric\\nThen hit me when you done your shift\\nI know a girl I should propose to\\nBut we just on some different shit\\nShe on some up at 9AM already cookin' in the kitchen shit\\nAnd lately we've been fightin'\\nOn some \\\"why-you-love-these-strippers?\\\" shit\\nYeah, she workin' with the spatula, I know she love flippin' shit, oh!\\nOh, me, I don't deserve it (at least you fuckin' know it)\\nShe's just a little too perfect, she's just a little too worth it\\nI don't deserve her at all, no not at all\\nI only text her, man, I never call\\nI'm still a canine at heart, I'm a dog\\nYeah, that's why you gotta come through quick, quick\\nI'm posted at the Derek up on Westheimer\\nHit me when you're done your shift, yeah\\n\\n[Chorus: Drake]\\nI need some company, I need some company\\nI need you to take my mind off being in my prime\\nSome company\\n\\n[Interlude: Travis Scott]\\nI'm a dog, I'm in heat baby, heat baby\\nI'm a dog, I'm in heat baby\\nI'm a dog, I'm a dog, I'm in heat baby\\nI'm in heat baby...\\nMo City trip! Mo City trip right now! Yeah\\nI'm on a Mo City trip, I'm on a Mo City trip right now\\nAyy, ayy, a Mo City trip right now\\nMo City trip, I'm on a Mo City trip right now\\n\\n[Verse 2: Travis Scott]\\nIt's a couple faces in here that a nigga piped down\\nSo let's go find a place that we can sip right now\\nTour 'round the city, it's the shit right now\\nIt's kinda lit right now that you're here right now\\nPop a couple percs let's get it in right now\\nSaturday nights, off in my bed right now\\nCall up your girl and put them heels on\\nIt's gettin' rowdy, rowdy right now, yeah\\nI'm on a Mo City trip, I'm a dog\\nI'm a dog, I'm in heat baby, heat baby\\nI'm a dog, I go ham, I'm a hog\\nBitch so bad, coulda thought I owed her somethin'\\nBy the way I broke her off (Broke her off)\\nWhen she get too on, we take it off (Take it off)\\nDrank so long, for a year I didn't cough (Cough)\\nFantasizin' and fistin' and switchin' up positions (Straight up!)\\nDo you mind if we just menage just a little? (La Flame!)\\n\\n[Outro: Travis Scott]\\nMo City trip right now, Mo City trip right now\\nMo City trip right now\",\n          \"[Verse 1: Omarion]\\nEven though you're all alone\\nAll alone when I am gone\\nI just wanna keep you warm\\nI'm coming back, I'm coming back\\nYes, I'll be there, yeah, yes, I'll be there\\n'Cause when I'm all alone, I think about your face\\nAnd how I wanna touch, I'm so far away (I'm so)\\nAll I wanna do is give all of me now\\nAre you ready? Are you ready? Yeah\\n\\n[Chorus]\\nDon't go missing, fly with me\\nDon't go missing, fly with me, fly with me\\nDon't go missing, fly with me\\n(Check it out, check it out)\\nDon't go missing, fly with me, fly with me\\n\\n[Verse 2: Drake]\\nI'm aware that we just met\\nI don't wanna leave you yet\\nPromise that I won't forget\\nI'm coming back, I'm coming back\\nYes, I'll be there, oh, yes, I'll be there, oh\\nAbout to board a flight, sitting at my gate\\nI just wanna touch you but I'm so far away (I'm so)\\nAll I wanna do is give you all of me now\\nAre you ready? Are you ready? Oh\\nEminem's Funniest Music Video Characters | Genius News\\n\\n\\n\\n\\n\\n\\n\\n\\n\\n\\n\\n\\n\\n\\n\\n\\n[Chorus]\\nDon't go missing, fly with me\\nDon't go missing, fly with me, fly with me\\nDon't go missing, fly with me\\n(Check it out, check it out)\\nDon't go missing, fly with me, fly with me, fly\"\n        ],\n        \"semantic_type\": \"\",\n        \"description\": \"\"\n      }\n    },\n    {\n      \"column\": \"track_views\",\n      \"properties\": {\n        \"dtype\": \"string\",\n        \"num_unique_values\": 211,\n        \"samples\": [\n          \"480.6K\",\n          \"12.1K\",\n          \"151.5K\"\n        ],\n        \"semantic_type\": \"\",\n        \"description\": \"\"\n      }\n    }\n  ]\n}"
            }
          },
          "metadata": {},
          "execution_count": 17
        }
      ]
    },
    {
      "cell_type": "code",
      "source": [],
      "metadata": {
        "id": "IPW57ZKU60Ad"
      },
      "execution_count": null,
      "outputs": []
    }
  ]
}